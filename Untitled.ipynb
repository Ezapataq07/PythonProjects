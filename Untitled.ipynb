{
 "cells": [
  {
   "cell_type": "markdown",
   "id": "4463f457",
   "metadata": {},
   "source": [
    "# Punto y Fama (2 números sin repetición)"
   ]
  },
  {
   "cell_type": "code",
   "execution_count": 16,
   "id": "83722207",
   "metadata": {},
   "outputs": [],
   "source": [
    "import random\n",
    "import numpy as np"
   ]
  },
  {
   "cell_type": "markdown",
   "id": "2e15101e",
   "metadata": {},
   "source": [
    "### Pruebas"
   ]
  },
  {
   "cell_type": "code",
   "execution_count": 34,
   "id": "3c83113d",
   "metadata": {},
   "outputs": [
    {
     "data": {
      "text/plain": [
       "array([[array([1, 2]), 14],\n",
       "       [0, 0],\n",
       "       [0, 0],\n",
       "       [0, 0],\n",
       "       [0, 0],\n",
       "       [0, 0],\n",
       "       [0, 0],\n",
       "       [0, 0],\n",
       "       [0, 0],\n",
       "       [0, 0]], dtype=object)"
      ]
     },
     "execution_count": 34,
     "metadata": {},
     "output_type": "execute_result"
    }
   ],
   "source": [
    "a = np.zeros((10,2), dtype = np.ndarray)\n",
    "a[0][0] =  np.array([1,2])\n",
    "a[0][1] =  14\n",
    "a"
   ]
  },
  {
   "cell_type": "markdown",
   "id": "b069a006",
   "metadata": {},
   "source": [
    "## Programa Principal"
   ]
  },
  {
   "cell_type": "code",
   "execution_count": 6,
   "id": "b5d0eed1",
   "metadata": {},
   "outputs": [
    {
     "name": "stdout",
     "output_type": "stream",
     "text": [
      "Comienzo del Juego\n",
      "\n",
      "Pienso que el número es: 06\n",
      "\n",
      "¿Cuántas famas obtuve?\n",
      "2\n",
      "Ha sido un placer derrotarte\n"
     ]
    }
   ],
   "source": [
    "isGuessed = False  # Variable para definir si se ha adivinado correctamente el número\n",
    "famas     = 0\n",
    "puntos    = 0\n",
    "\n",
    "numbers   = range(10)\n",
    "guess     = random.sample(numbers,2)\n",
    "\n",
    "summary   = np.zeros((10,2), dtype = np.ndarray)\n",
    "\n",
    "\n",
    "print('Comienza del Juego\\n')\n",
    "\n",
    "# Ciclo principal del programa\n",
    "while (isGuessed == False):\n",
    "    \n",
    "    print(f'Pienso que el número es: {guess[0]}{guess[1]}\\n')\n",
    "    # Preguntas para el usuario\n",
    "    \n",
    "    ## 1) Cuantas famas hay?\n",
    "    famas = int(input('¿Cuántas famas obtuve?\\n'))\n",
    "    # Se verifica si se ha adivinado el número\n",
    "    if (famas == 2):\n",
    "        print('Ha sido un placer derrotarte')\n",
    "        isGuessed = True\n",
    "        continue\n",
    "    \n",
    "    ## 2) Cuantos puntos hay?\n",
    "    puntos = int(input('¿Cuántos puntos obtuve?\\n'))\n",
    "    \n",
    "    # Se actualizan los puntajes\n",
    "    UpdateScore(guess, puntos, famas, summary)\n",
    "    \n",
    "    # Casos Extremos\n",
    "    \n",
    "    \n",
    "    # Escoger nuevos números\n",
    "    \n",
    "    \n",
    "                    \n",
    "\n"
   ]
  },
  {
   "cell_type": "markdown",
   "id": "57aa83c2",
   "metadata": {},
   "source": [
    "## Funciones "
   ]
  },
  {
   "cell_type": "code",
   "execution_count": 35,
   "id": "62d7cd2d",
   "metadata": {},
   "outputs": [],
   "source": [
    "def UpdateScore(guess, puntos, famas, summary):\n",
    "    \n",
    "    # Para puntos:\n",
    "    if (puntos == 1):\n",
    "        # Se asigna el puntaje a la cifra 0\n",
    "        summary[guess[0]][1] += 2\n",
    "        \n",
    "        # Se asigna el puntaje a la cifra 1\n",
    "        summary[guess[1]][1] += 2\n",
    "    elif (puntos == 2):\n",
    "        # Se asigna el puntaje a la cifra 0\n",
    "        summary[guess[0]][1] += 4\n",
    "        \n",
    "        # Se asigna el puntaje a la cifra 1\n",
    "        summary[guess[1]][1] += 4\n",
    "    \n",
    "    # Para famas:\n",
    "    if (famas == 1):\n",
    "        # Se asigna el puntaje a la cifra 0\n",
    "        summary[guess[0]][1] += 3\n",
    "        \n",
    "        # Se asigna el puntaje a la cifra 1\n",
    "        summary[guess[1]][1] += 3\n",
    "        \n",
    "        \n",
    "    \n",
    "    "
   ]
  },
  {
   "cell_type": "code",
   "execution_count": null,
   "id": "b1b91aed",
   "metadata": {},
   "outputs": [],
   "source": []
  }
 ],
 "metadata": {
  "kernelspec": {
   "display_name": "Python 3 (ipykernel)",
   "language": "python",
   "name": "python3"
  },
  "language_info": {
   "codemirror_mode": {
    "name": "ipython",
    "version": 3
   },
   "file_extension": ".py",
   "mimetype": "text/x-python",
   "name": "python",
   "nbconvert_exporter": "python",
   "pygments_lexer": "ipython3",
   "version": "3.9.7"
  }
 },
 "nbformat": 4,
 "nbformat_minor": 5
}
