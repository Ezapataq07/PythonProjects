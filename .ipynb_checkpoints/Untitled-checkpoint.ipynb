{
 "cells": [
  {
   "cell_type": "markdown",
   "id": "a4433e79",
   "metadata": {},
   "source": [
    "# Punto y Fama (2 números sin repetición)"
   ]
  },
  {
   "cell_type": "code",
   "execution_count": 2,
   "id": "5079ea1e",
   "metadata": {},
   "outputs": [],
   "source": [
    "import random"
   ]
  },
  {
   "cell_type": "markdown",
   "id": "35165545",
   "metadata": {},
   "source": [
    "### Pruebas"
   ]
  },
  {
   "cell_type": "code",
   "execution_count": null,
   "id": "ae10b448",
   "metadata": {},
   "outputs": [],
   "source": []
  },
  {
   "cell_type": "markdown",
   "id": "d3d85176",
   "metadata": {},
   "source": [
    "## Programa Principal"
   ]
  },
  {
   "cell_type": "code",
   "execution_count": null,
   "id": "d49aba5a",
   "metadata": {},
   "outputs": [],
   "source": [
    "isGuessed = False  # Variable para definir si se ha adivinado correctamente el número\n",
    "famas     = 0\n",
    "puntos    = 0\n",
    "\n",
    "numbers   = range(10)\n",
    "guess     = random.sample(numbers,2)\n",
    "\n",
    "\n",
    "print('Comienzo del Juego\\n')\n",
    "\n",
    "# Ciclo principal del programa\n",
    "while (isGuessed == False):\n",
    "    \n",
    "    print(f'Pienso que el número es: {guess[0]}{guess[1]}\\n')\n",
    "    # Preguntas para el usuario\n",
    "    \n",
    "    ## 1) Cuantas famas hay?\n",
    "    famas = int(input('¿Cuántas famas obtuve?\\n'))\n",
    "    # Se verifica si se ha adivinado el número\n",
    "    if (famas == 2):\n",
    "        print('Ha sido un placer derrotarte')\n",
    "        isGuessed = True\n",
    "        continue\n",
    "    \n",
    "    ## 2) Cuantos puntos hay?\n",
    "    puntos = int(input('¿Cuántos puntos obtuve?\\n'))\n",
    "    \n",
    "    \n",
    "    \n",
    "    \n",
    "                    \n",
    "\n"
   ]
  },
  {
   "cell_type": "code",
   "execution_count": null,
   "id": "2a1a79ec",
   "metadata": {},
   "outputs": [],
   "source": []
  }
 ],
 "metadata": {
  "kernelspec": {
   "display_name": "Python 3 (ipykernel)",
   "language": "python",
   "name": "python3"
  },
  "language_info": {
   "codemirror_mode": {
    "name": "ipython",
    "version": 3
   },
   "file_extension": ".py",
   "mimetype": "text/x-python",
   "name": "python",
   "nbconvert_exporter": "python",
   "pygments_lexer": "ipython3",
   "version": "3.9.7"
  }
 },
 "nbformat": 4,
 "nbformat_minor": 5
}
