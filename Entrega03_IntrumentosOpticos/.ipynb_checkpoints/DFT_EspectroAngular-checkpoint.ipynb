{
 "cells": [
  {
   "cell_type": "code",
   "execution_count": 1,
   "metadata": {},
   "outputs": [],
   "source": [
    "import numpy as np\n",
    "import matplotlib.pyplot as plt\n",
    "import cv2\n",
    "%matplotlib qt"
   ]
  },
  {
   "cell_type": "code",
   "execution_count": 3,
   "metadata": {},
   "outputs": [],
   "source": [
    "def Complex_Plot(matrix,kind,log):\n",
    "  #kind: I=Intensidad, A=Amplitud, P=Fase\n",
    "  plt.figure()\n",
    "  if (kind=='I'):\n",
    "    matrix_to_plot=np.abs(matrix)**2\n",
    "  elif (kind=='A'):\n",
    "    matrix_to_plot=np.abs(matrix)\n",
    "  elif (kind=='P'):\n",
    "     matrix_to_plot=np.angle(matrix)\n",
    "  if (log==1):\n",
    "    plt.imshow(np.log(matrix_to_plot+0.00001))\n",
    "    plt.colorbar()\n",
    "  elif (log==0):\n",
    "    plt.imshow(matrix_to_plot)\n",
    "    plt.colorbar()\n",
    "  return "
   ]
  },
  {
   "cell_type": "code",
   "execution_count": 8,
   "metadata": {},
   "outputs": [],
   "source": [
    "um=1e-6\n",
    "mm=1e-3\n",
    "nm=1e-9\n",
    "N=1024\n",
    "M=1024\n",
    "w_length=650*nm\n",
    "dx=dy=1*um\n"
   ]
  },
  {
   "cell_type": "code",
   "execution_count": 9,
   "metadata": {},
   "outputs": [],
   "source": [
    "x=np.arange(-int(N/2),int(N/2),1)\n",
    "y=np.arange(-int(M/2),int(M/2),1)\n",
    "X,Y=np.meshgrid(x,y)\n",
    "k=2*np.pi/w_length\n",
    "sin=np.sin(0.1*X)\n",
    "sin=(sin-np.min(sin))/(np.max(sin)-np.min(sin))"
   ]
  },
  {
   "cell_type": "code",
   "execution_count": 10,
   "metadata": {},
   "outputs": [],
   "source": [
    "plt.figure()\n",
    "plt.imshow(sin)\n",
    "plt.colorbar()\n",
    "plt.show()"
   ]
  },
  {
   "cell_type": "code",
   "execution_count": 11,
   "metadata": {},
   "outputs": [
    {
     "ename": "NameError",
     "evalue": "name 'b_pad' is not defined",
     "output_type": "error",
     "traceback": [
      "\u001b[1;31m---------------------------------------------------------------------------\u001b[0m",
      "\u001b[1;31mNameError\u001b[0m                                 Traceback (most recent call last)",
      "\u001b[1;32m~\\AppData\\Local\\Temp/ipykernel_6264/1022545273.py\u001b[0m in \u001b[0;36m<module>\u001b[1;34m\u001b[0m\n\u001b[0;32m      4\u001b[0m \u001b[0mplt\u001b[0m\u001b[1;33m.\u001b[0m\u001b[0mcolorbar\u001b[0m\u001b[1;33m(\u001b[0m\u001b[1;33m)\u001b[0m\u001b[1;33m\u001b[0m\u001b[1;33m\u001b[0m\u001b[0m\n\u001b[0;32m      5\u001b[0m \u001b[0mplt\u001b[0m\u001b[1;33m.\u001b[0m\u001b[0mshow\u001b[0m\u001b[1;33m(\u001b[0m\u001b[1;33m)\u001b[0m\u001b[1;33m\u001b[0m\u001b[1;33m\u001b[0m\u001b[0m\n\u001b[1;32m----> 6\u001b[1;33m \u001b[0mfft\u001b[0m\u001b[1;33m=\u001b[0m\u001b[0mnp\u001b[0m\u001b[1;33m.\u001b[0m\u001b[0mfft\u001b[0m\u001b[1;33m.\u001b[0m\u001b[0mfftshift\u001b[0m\u001b[1;33m(\u001b[0m\u001b[0mnp\u001b[0m\u001b[1;33m.\u001b[0m\u001b[0mfft\u001b[0m\u001b[1;33m.\u001b[0m\u001b[0mfftn\u001b[0m\u001b[1;33m(\u001b[0m\u001b[0mb_pad\u001b[0m\u001b[1;33m)\u001b[0m\u001b[1;33m)\u001b[0m\u001b[1;33m\u001b[0m\u001b[1;33m\u001b[0m\u001b[0m\n\u001b[0m\u001b[0;32m      7\u001b[0m \u001b[1;31m#fft=np.abs(fft)\u001b[0m\u001b[1;33m\u001b[0m\u001b[1;33m\u001b[0m\u001b[0m\n\u001b[0;32m      8\u001b[0m \u001b[1;31m#ab_fft=(fft-np.min(fft))/(np.max(fft)-np.min(fft))\u001b[0m\u001b[1;33m\u001b[0m\u001b[1;33m\u001b[0m\u001b[0m\n",
      "\u001b[1;31mNameError\u001b[0m: name 'b_pad' is not defined"
     ]
    }
   ],
   "source": [
    "b=cv2.imread('puntob.png',0)\n",
    "plt.figure()\n",
    "plt.imshow(b)\n",
    "plt.colorbar()\n",
    "plt.show()\n",
    "fft=np.fft.fftshift(np.fft.fftn(b_pad))\n",
    "#fft=np.abs(fft)\n",
    "#ab_fft=(fft-np.min(fft))/(np.max(fft)-np.min(fft))\n",
    "Complex_Plot(fft,'A',1)"
   ]
  },
  {
   "cell_type": "code",
   "execution_count": null,
   "metadata": {},
   "outputs": [],
   "source": [
    "#######################################\n",
    "b_pad=np.zeros((600,600),dtype=\"uint8\")\n",
    "#for i in range(768):\n",
    " #   for j in range(768):\n",
    "  #      b_pad[i+int(768/2)][j+int(768/2)]=b[i][j]\n",
    "#cv2.rectangle(b_pad,(500,300),(300,500),20,-1)\n",
    "coordy=int(np.shape(b_pad)[0]/2)\n",
    "coordx=int(np.shape(b_pad)[1]/2)\n",
    "cv2.circle(b_pad,(coordx,coordy),150,1,-1)"
   ]
  },
  {
   "cell_type": "code",
   "execution_count": null,
   "metadata": {},
   "outputs": [],
   "source": [
    "Complex_Plot(b_pad,'A',0)"
   ]
  },
  {
   "cell_type": "code",
   "execution_count": null,
   "metadata": {},
   "outputs": [],
   "source": [
    "f=b_pad\n",
    "N=np.shape(f)[0]"
   ]
  },
  {
   "cell_type": "code",
   "execution_count": null,
   "metadata": {},
   "outputs": [],
   "source": [
    "w=np.exp(-1j*2*np.pi/N)\n",
    "W=np.zeros(np.shape(f),dtype=\"complex_\")\n",
    "for l in range(N):\n",
    "    for n in range(N):\n",
    "        W[l][n]=(w)**(l*n)\n",
    "F=np.matmul(W,f)\n",
    "F=np.matmul(F,W)\n"
   ]
  },
  {
   "cell_type": "code",
   "execution_count": null,
   "metadata": {},
   "outputs": [],
   "source": [
    "F=np.zeros(np.shape(f),dtype=\"complex_\")\n",
    "\n",
    "for u in range(N):\n",
    "    F[:,u]=f[:,u]\n",
    "    F[:,u]=np.matmul(W,F[:,u])\n",
    "\n",
    "for v in range(N):\n",
    "    F[v]=f[v]\n",
    "    F[v]=np.matmul(W,F[v])\n",
    "\n",
    "\n"
   ]
  },
  {
   "cell_type": "code",
   "execution_count": null,
   "metadata": {},
   "outputs": [],
   "source": [
    "Complex_Plot(np.fft.fftshift(F),'A',1)"
   ]
  },
  {
   "cell_type": "code",
   "execution_count": null,
   "metadata": {},
   "outputs": [],
   "source": [
    "#Suponiendo imagenes cuadradas\n",
    "def DFT(matrix, kind='n'):\n",
    "    N=np.shape(matrix)[0]\n",
    "    if (kind=='i'):\n",
    "        w=np.exp(1j*2*np.pi/N)\n",
    "    if (kind=='n'):\n",
    "        w=np.exp(-1j*2*np.pi/N)\n",
    "    W=np.zeros(np.shape(matrix),dtype=\"complex_\")\n",
    "    for p in range(N):\n",
    "        for q in range(N):\n",
    "            W[p][q]=(w)**(p*q)\n",
    "    F=np.matmul(W,matrix)\n",
    "    F=np.matmul(F,W)\n",
    "    if (kind=='i'):\n",
    "        F=F\n",
    "    if (kind=='n'):\n",
    "        F=np.fft.fftshift(F)\n",
    "    return F\n"
   ]
  },
  {
   "cell_type": "code",
   "execution_count": null,
   "metadata": {},
   "outputs": [],
   "source": [
    "def Angular_Spectrum_DFT(matrix,z,dx):\n",
    "    N=np.shape(matrix)[0]\n",
    "    df=1/(dx*N)\n",
    "    A_0=DFT(matrix)\n",
    "    A_0=(dx**2)*A_0\n",
    "    A_z=np.zeros(np.shape(A_0),dtype=\"complex_\")\n",
    "    x=np.arange(-int(N/2),int(N/2),1)\n",
    "    y=np.arange(-int(N/2),int(N/2),1)\n",
    "    X,Y=np.meshgrid(x,y)\n",
    "    fX=X*(1/(N*dx))\n",
    "    fY=Y*(1/(N*dx))\n",
    "    A_z=A_0*np.exp(1j*z*(2*np.pi/w_length)*np.sqrt(1-(w_length**2)*(fX**2+fY**2)))       \n",
    "    U_z=DFT(A_z,'i')\n",
    "    U_z=(df**2)*U_z"
   ]
  },
  {
   "cell_type": "code",
   "execution_count": null,
   "metadata": {},
   "outputs": [],
   "source": [
    "b_fft=DFT(b)\n",
    "Complex_Plot(b_fft,'A',1)"
   ]
  },
  {
   "cell_type": "code",
   "execution_count": null,
   "metadata": {},
   "outputs": [],
   "source": [
    "b_n=DFT(b_fft,kind='i')\n",
    "Complex_Plot(b_n,'A',0)"
   ]
  },
  {
   "cell_type": "code",
   "execution_count": null,
   "metadata": {},
   "outputs": [],
   "source": [
    "Complex_Plot(U_z,'I',0)"
   ]
  },
  {
   "cell_type": "code",
   "execution_count": null,
   "metadata": {},
   "outputs": [],
   "source": [
    "np.sqrt(-1)"
   ]
  },
  {
   "cell_type": "code",
   "execution_count": null,
   "metadata": {},
   "outputs": [],
   "source": [
    "x=np.arange(-int(N/2),int(N/2),1)\n",
    "y=np.arange(-int(N/2),int(N/2),1)\n",
    "X,Y=np.meshgrid(x,y)\n",
    "fX=X*(1/(N*dx))\n",
    "fY=Y*(1/(N*dx))\n",
    "np.sqrt(1-(w_length**2)*(fX**2+fY**2))\n",
    "#m=(1-((w_length*df)**2)*((p**2)+(q**2)))"
   ]
  },
  {
   "cell_type": "code",
   "execution_count": null,
   "metadata": {},
   "outputs": [],
   "source": []
  },
  {
   "cell_type": "markdown",
   "metadata": {},
   "source": [
    "# Espectro Angular Definitivo"
   ]
  },
  {
   "cell_type": "code",
   "execution_count": null,
   "metadata": {},
   "outputs": [],
   "source": [
    "import numpy as np\n",
    "import matplotlib.pyplot as plt\n",
    "import cv2\n",
    "%matplotlib qt"
   ]
  },
  {
   "cell_type": "code",
   "execution_count": null,
   "metadata": {},
   "outputs": [],
   "source": [
    "#Suponiendo imagenes cuadradas\n",
    "def DFT(matrix, kind='n'):\n",
    "    N=np.shape(matrix)[0]\n",
    "    if (kind=='i'):\n",
    "        w=np.exp(1j*2*np.pi/N)\n",
    "    if (kind=='n'):\n",
    "        w=np.exp(-1j*2*np.pi/N)\n",
    "    W=np.zeros(np.shape(matrix),dtype=\"complex_\")\n",
    "    for p in range(N):\n",
    "        for q in range(N):\n",
    "            W[p][q]=(w)**(p*q)\n",
    "    F=np.matmul(W,matrix)\n",
    "    F=np.matmul(F,W)\n",
    "    if (kind=='i'):\n",
    "        return F\n",
    "    if (kind=='n'):\n",
    "        return np.fft.fftshift(F)\n"
   ]
  },
  {
   "cell_type": "code",
   "execution_count": null,
   "metadata": {},
   "outputs": [],
   "source": [
    "def Angular_Spectrum_DFT(matrix,z,w_length,dx):\n",
    "    N=np.shape(matrix)[0]\n",
    "    df=1/(dx*N)\n",
    "    A_0=DFT(matrix)\n",
    "    A_0=(dx**2)*A_0\n",
    "    A_z=np.zeros(np.shape(A_0),dtype=\"complex_\")\n",
    "    x=np.arange(-int(N/2),int(N/2),1)\n",
    "    y=np.arange(-int(N/2),int(N/2),1)\n",
    "    X,Y=np.meshgrid(x,y)\n",
    "    fX=X*(1/(N*dx))\n",
    "    fY=Y*(1/(N*dx))\n",
    "    A_z=A_0*np.exp(1j*z*(2*np.pi/w_length)*np.sqrt(1-(w_length**2)*(fX**2+fY**2)))       \n",
    "    U_z=DFT(A_z,'i')\n",
    "    U_z=(df**2)*U_z\n",
    "    return U_z"
   ]
  },
  {
   "cell_type": "code",
   "execution_count": null,
   "metadata": {},
   "outputs": [],
   "source": [
    "#Se imortan las librerías relevantes y las unidades\n",
    "from resources.functions import *\n",
    "\"\"\"Función que implementa la transformada discreta de Fourier bidimensional de forma matricial\n",
    "(para imágenes cuadradas)\"\"\"\n",
    "def DFT(matrix, inverse=False):\n",
    "    # matrix es la representación discreta de la imagen o función \n",
    "    # inverse = True (transformada inversa de fourier) ; inverse = False (transformada de Fourier)\n",
    "\n",
    "    #Se define la dimensión de la imagen (solo se utiliza N por ser cuadrada)\n",
    "    N=np.shape(matrix)[0]\n",
    "\n",
    "    #Se define el signo del kernel de la transformada, dependiendo si es inversa o no\n",
    "    if (inverse):\n",
    "        w=np.exp(1j*2*np.pi/N)\n",
    "    else:\n",
    "        w=np.exp(-1j*2*np.pi/N)\n",
    "    \n",
    "    # Se calcula la matriz W (cuyo origen se especifica en el informe)\n",
    "    W=np.zeros(np.shape(matrix),dtype=\"complex_\")\n",
    "    for p in range(N):\n",
    "        for q in range(N):\n",
    "            W[p][q]=(w)**(p*q)\n",
    "    \n",
    "    #Se calcula la transformada de Fourier discreta en su forma matricial (F=W.matrix.W)\n",
    "    F=np.matmul(W,matrix)\n",
    "    F=np.matmul(F,W)\n",
    "\n",
    "    #Se retorna F sin shift si es la transformada inversa (teniendo en cuenta que la matriz viene de un\n",
    "    #proceso previo de trnasformada de Fourier en el cual se ha aplicado el shift)\n",
    "    if (inverse):\n",
    "        return F\n",
    "    else:\n",
    "        return np.fft.fftshift(F)\n",
    "\n",
    "\"\"\" Función de Difracción Discreta por Espectro Angular usando DFTs\"\"\"\n",
    "def Angular_Spectrum_DFT(matrix,z,w_length,dx):\n",
    "    # matrix es la representación discreta de la imagen o función \n",
    "    # z es la distancia de propagación (metros)\n",
    "    # w_length es la longitud de onda (m)\n",
    "    # dx es el intervalo de muestreo de la función en el plano de entrada\n",
    "\n",
    "    #Se define la dimensión de la imagen (solo se utiliza N por ser cuadrada)\n",
    "    N=np.shape(matrix)[0]\n",
    "\n",
    "    #Se calcula el intervalo de muestreo en el dominio de las frecuancias\n",
    "    df=1/(dx*N)\n",
    "\n",
    "    #Se calcula la transformada de Fourier de la imagen o función\n",
    "    A_0=DFT(matrix)\n",
    "    A_0=(dx**2)*A_0\n",
    "\n",
    "    #Se definen las coordenadas frecuenciales con el fin de aplicar la función de transferencia\n",
    "    #adecuadamente\n",
    "    x=np.arange(-int(N/2),int(N/2),1)\n",
    "    y=np.arange(-int(N/2),int(N/2),1)\n",
    "    X,Y=np.meshgrid(x,y)\n",
    "    fX=X*(1/(N*dx))\n",
    "    fY=Y*(1/(N*dx))\n",
    "\n",
    "    #Se aplica la función de transferencia\n",
    "    A_z=A_0*np.exp(1j*z*(2*np.pi/w_length)*np.sqrt(1-(w_length**2)*(fX**2+fY**2)))      \n",
    "\n",
    "    #Se calcula la transformada inversa de Fourier de A_z y se retorna (U_z es la representación del\n",
    "    # camp óptico difractado a una distancia z) \n",
    "    U_z=DFT(A_z,'i')\n",
    "    U_z=(df**2)*U_z\n",
    "    return U_z\n",
    "\n",
    "\"\"\" A continuación se presenta un ejemplo del funcionamiento de la función de Espectro Angular via DFT\n",
    "    para la difracción de una apertura circular de diametro 3mm a una distancia de 250mm, iluminando\n",
    "    con luz de 650nm (ir al documento donde se compara el resultado con el resultado real) \"\"\"\n",
    "\n",
    "#Se crea computacionalmente la apertura circular (el diámetro se acomoda con las dimensiones de muestreo)\n",
    "circ_aperture=np.zeros((500,500),dtype=\"uint8\")\n",
    "coordy=int(np.shape(circ_aperture)[0]/2)\n",
    "coordx=int(np.shape(circ_aperture)[1]/2)\n",
    "cv2.circle(circ_aperture,(coordx,coordy),150,1,-1)\n",
    "\n",
    "#Se calcula el patrón de difracción por Espectro Angular\n",
    "U_circ=Angular_Spectrum_DFT(circ_aperture,250*mm,650*nm,1e-5)\n",
    "fig, axs = plt.subplots(1, 1, figsize=(10, 10))\n",
    "Complex_Plot(U_circ,'A',0,axs)"
   ]
  },
  {
   "cell_type": "markdown",
   "metadata": {},
   "source": [
    "# Transformada de Fresnel DFT\n"
   ]
  },
  {
   "cell_type": "code",
   "execution_count": null,
   "metadata": {},
   "outputs": [],
   "source": [
    "import numpy as np\n",
    "import matplotlib.pyplot as plt\n",
    "import cv2\n",
    "%matplotlib qt"
   ]
  },
  {
   "cell_type": "code",
   "execution_count": null,
   "metadata": {},
   "outputs": [],
   "source": [
    "#Suponiendo imagenes cuadradas\n",
    "def DFT(matrix, kind='n'):\n",
    "    N=np.shape(matrix)[0]\n",
    "    if (kind=='i'):\n",
    "        w=np.exp(1j*2*np.pi/N)\n",
    "    if (kind=='n'):\n",
    "        w=np.exp(-1j*2*np.pi/N)\n",
    "    W=np.zeros(np.shape(matrix),dtype=\"complex_\")\n",
    "    for p in range(N):\n",
    "        for q in range(N):\n",
    "            W[p][q]=(w)**(p*q)\n",
    "    F=np.matmul(W,matrix)\n",
    "    F=np.matmul(F,W)\n",
    "    if (kind=='i'):\n",
    "        return F\n",
    "    if (kind=='n'):\n",
    "        return np.fft.fftshift(F)\n"
   ]
  },
  {
   "cell_type": "code",
   "execution_count": null,
   "metadata": {},
   "outputs": [],
   "source": [
    "def Fresnel_Transform_DFT(matrix,z,w_length,dx0):\n",
    "    N=np.shape(matrix)[0]\n",
    "    dx=(w_length*z)/(dx0*N)\n",
    "    k=(2*np.pi)/w_length\n",
    "    x0=np.arange(-int(N/2),int(N/2),1)\n",
    "    y0=np.arange(-int(N/2),int(N/2),1)\n",
    "    n0,m0=np.meshgrid(x0,y0)\n",
    "    U_prima=matrix*np.exp((1j*k/(2*z))*((dx0*n0)**2+(dx0*m0)**2))\n",
    "    U_2prima=DFT(U_prima)\n",
    "    U_2prima=(dx**2)*U_2prima\n",
    "    x=np.arange(-int(N/2),int(N/2),1)\n",
    "    y=np.arange(-int(N/2),int(N/2),1)\n",
    "    n,m=np.meshgrid(x,y)\n",
    "    U_z=U_2prima*(1)*np.exp((1j*k/(2*z))*((dx*n)**2+(dx*m)**2))\n",
    "    return U_z"
   ]
  },
  {
   "cell_type": "code",
   "execution_count": null,
   "metadata": {},
   "outputs": [],
   "source": [
    "U_ae=Angular_Spectrum_DFT(b_pad,1000,650*nm,10*um)"
   ]
  },
  {
   "cell_type": "code",
   "execution_count": null,
   "metadata": {},
   "outputs": [],
   "source": [
    "Complex_Plot(U_ae,'A',0)"
   ]
  },
  {
   "cell_type": "code",
   "execution_count": null,
   "metadata": {},
   "outputs": [],
   "source": [
    "U_ft=Fresnel_Transform_DFT(b_pad,1000,650*nm,1e-5)"
   ]
  },
  {
   "cell_type": "code",
   "execution_count": null,
   "metadata": {},
   "outputs": [],
   "source": [
    "Complex_Plot(U_ft,'A',0)"
   ]
  },
  {
   "cell_type": "code",
   "execution_count": null,
   "metadata": {},
   "outputs": [],
   "source": [
    "np.exp(1j*k*z)/(1j*w_length*z)"
   ]
  },
  {
   "cell_type": "code",
   "execution_count": null,
   "metadata": {},
   "outputs": [],
   "source": [
    "from resources.functions import *\n",
    "a=np.pi\n",
    "print(mm)"
   ]
  },
  {
   "cell_type": "markdown",
   "metadata": {},
   "source": [
    "###############################################################################################"
   ]
  },
  {
   "cell_type": "code",
   "execution_count": 18,
   "metadata": {},
   "outputs": [],
   "source": [
    "def Plane_Wave_2D(A,N,z,w_length):\n",
    "    x=np.arange(-int(N/2),int(N/2),1)\n",
    "    y=np.arange(-int(N/2),int(N/2),1)\n",
    "    X,Y=np.meshgrid(x,y)\n",
    "    k=2*np.pi/w_length\n",
    "    r=np.sqrt(z**2+(X)**2+(Y)**2)\n",
    "    plane_wave=A*np.exp(1j*k*r)\n",
    "    return plane_wave"
   ]
  },
  {
   "cell_type": "markdown",
   "metadata": {},
   "source": [
    "# Punto 2b - Principio de Babinet"
   ]
  },
  {
   "cell_type": "code",
   "execution_count": 51,
   "metadata": {},
   "outputs": [],
   "source": [
    "Plane_Wave=np.ones((600,600),dtype=\"uint8\")\n",
    "circ_obs=np.zeros((600,600),dtype=\"uint8\")\n",
    "coordy=int(np.shape(circ_obs)[0]/2)\n",
    "coordx=int(np.shape(circ_obs)[1]/2)\n",
    "cv2.circle(circ_obs,(coordx,coordy),100,1,-1)\n",
    "circ=np.ones((600,600),dtype=\"uint8\")\n",
    "coordy=int(np.shape(circ)[0]/2)\n",
    "coordx=int(np.shape(circ)[1]/2)\n",
    "cv2.circle(circ,(coordx,coordy),200,0,-1)\n",
    "inverse_donut=circ_obs+circ\n",
    "\n",
    "donut=np.abs(np.abs(inverse_donut)-np.ones((600,600),dtype=\"uint8\"))\n",
    "#inverse_donut=inverse_donut/np.max(inverse_donut)"
   ]
  },
  {
   "cell_type": "code",
   "execution_count": 52,
   "metadata": {},
   "outputs": [],
   "source": [
    "Complex_Plot(donut,'A',0)"
   ]
  },
  {
   "cell_type": "code",
   "execution_count": 57,
   "metadata": {},
   "outputs": [],
   "source": [
    "Complex_Plot(inverse_donut,'A',0)"
   ]
  },
  {
   "cell_type": "code",
   "execution_count": 55,
   "metadata": {},
   "outputs": [],
   "source": [
    "Complex_Plot(circ,'A',0)"
   ]
  },
  {
   "cell_type": "code",
   "execution_count": 56,
   "metadata": {},
   "outputs": [],
   "source": [
    "Complex_Plot(circ_obs,'A',0)"
   ]
  },
  {
   "cell_type": "code",
   "execution_count": 19,
   "metadata": {},
   "outputs": [],
   "source": [
    "Complex_Plot(donut+inverse_donut,'A',0)"
   ]
  },
  {
   "cell_type": "code",
   "execution_count": 48,
   "metadata": {},
   "outputs": [],
   "source": [
    "Complex_Plot(circ+circ_obs,'A',0)"
   ]
  },
  {
   "cell_type": "code",
   "execution_count": 58,
   "metadata": {
    "scrolled": true
   },
   "outputs": [
    {
     "name": "stdout",
     "output_type": "stream",
     "text": [
      "Tipo: Espectro Angular, parámetro:  0.09230769230769231\n",
      "Tipo: Espectro Angular, parámetro:  0.09230769230769231\n",
      "Tipo: Espectro Angular, parámetro:  0.09230769230769231\n",
      "Tipo: Espectro Angular, parámetro:  0.09230769230769231\n",
      "Tipo: Espectro Angular, parámetro:  0.09230769230769231\n"
     ]
    }
   ],
   "source": [
    "U_plane=Diffraction(Plane_Wave,90*mm,650*nm,1e-5,type = \"FFT\")\n",
    "U_circ=Diffraction(circ,90*mm,650*nm,1e-5,type = \"FFT\")\n",
    "U_inverse_donut=Diffraction(inverse_donut,90*mm,650*nm,1e-5,type = \"FFT\")\n",
    "U_donut=Diffraction(donut,90*mm,650*nm,1e-5,type = \"FFT\")\n",
    "U_circ_obs=Diffraction(circ_obs,90*mm,650*nm,1e-5,type = \"FFT\")\n",
    "U_inverse_donut_babinet=U_circ+U_circ_obs"
   ]
  },
  {
   "cell_type": "code",
   "execution_count": null,
   "metadata": {},
   "outputs": [],
   "source": []
  },
  {
   "cell_type": "code",
   "execution_count": 59,
   "metadata": {},
   "outputs": [],
   "source": [
    "Complex_Plot(U_inverse_donut,'A',0)\n",
    "Complex_Plot(U_inverse_donut_babinet,'A',0)"
   ]
  },
  {
   "cell_type": "code",
   "execution_count": 9,
   "metadata": {},
   "outputs": [],
   "source": [
    "Complex_Plot(U_inverse_donut,'A',0)"
   ]
  },
  {
   "cell_type": "markdown",
   "metadata": {},
   "source": [
    "# Punto 2a "
   ]
  },
  {
   "cell_type": "code",
   "execution_count": 130,
   "metadata": {},
   "outputs": [],
   "source": [
    "N=600\n",
    "m=1\n",
    "L=10\n",
    "x = np.arange(-int(N/2),int(N/2),1)\n",
    "y = np.arange(-int(N/2),int(N/2),1)\n",
    "X,Y = np.meshgrid(x,y)\n",
    "t=(1/2)*(1+m*np.cos(2*np.pi*X/L))"
   ]
  },
  {
   "cell_type": "code",
   "execution_count": 132,
   "metadata": {},
   "outputs": [],
   "source": [
    "Complex_Plot(t,'A',0)"
   ]
  },
  {
   "cell_type": "code",
   "execution_count": 139,
   "metadata": {},
   "outputs": [
    {
     "name": "stdout",
     "output_type": "stream",
     "text": [
      "Tipo: Espectro Angular, parámetro:  0.09230769230769231\n"
     ]
    }
   ],
   "source": [
    "w_length=650*nm\n",
    "z=(3/2)*((L*1e-5)**2)/w_length\n",
    "U=Diffraction(t,z,w_length,1e-5,type = \"FFT\")"
   ]
  },
  {
   "cell_type": "code",
   "execution_count": 140,
   "metadata": {},
   "outputs": [
    {
     "data": {
      "text/plain": [
       "0.023076923076923078"
      ]
     },
     "execution_count": 140,
     "metadata": {},
     "output_type": "execute_result"
    }
   ],
   "source": [
    "z"
   ]
  },
  {
   "cell_type": "code",
   "execution_count": 141,
   "metadata": {},
   "outputs": [],
   "source": [
    "Complex_Plot(U,'A',0)"
   ]
  },
  {
   "cell_type": "code",
   "execution_count": 4,
   "metadata": {},
   "outputs": [],
   "source": [
    "import numpy as np\n",
    "import matplotlib.pyplot as plt\n",
    "import cv2\n",
    "import time\n",
    "\n",
    "#Definimos unidades\n",
    "nm = 1e-9\n",
    "um = 1e-6\n",
    "mm = 1e-3\n",
    "m = 1\n",
    "\n",
    "#Función para crear regillas circulares\n",
    "def Mask_Circle(N,r,kind='A'):\n",
    "  #N dimensión de la matriz\n",
    "  #r es el radio del circulo (en píxeles)\n",
    "  #kind: 'A' si es una apertura, 'O' si es un obstáculo\n",
    "  if (kind=='A'):\n",
    "    circ_aperture=np.zeros((N,N),dtype=\"uint8\")\n",
    "    coordy=int(np.shape(circ_aperture)[0]/2)\n",
    "    coordx=int(np.shape(circ_aperture)[1]/2)\n",
    "    cv2.circle(circ_aperture,(coordx,coordy),r,1,-1)\n",
    "    return circ_aperture\n",
    "  elif (kind=='O'):\n",
    "    circ_obstacle=np.ones((N,N),dtype=\"uint8\")\n",
    "    coordy=int(np.shape(circ_obstacle)[0]/2)\n",
    "    coordx=int(np.shape(circ_obstacle)[1]/2)\n",
    "    cv2.circle(circ_obstacle,(coordx,coordy),r,0,-1)\n",
    "    return circ_obstacle\n",
    "#Función para gráficar matrices complejas \n",
    "def Complex_Plot(matrix,kind,log,axs,fig = 0, colbar = False):\n",
    "  #matrix: matriz a gráficar\n",
    "  #kind: I=Intensidad, A=Amplitud, P=Fase\n",
    "  #log: 1 si se desea escala logarítmica 0 en caso contrario\n",
    "  if (kind=='I'):\n",
    "    matrix_to_plot=np.abs(matrix)**2\n",
    "  elif (kind=='A'):\n",
    "    matrix_to_plot=np.abs(matrix)\n",
    "  elif (kind=='P'):\n",
    "     matrix_to_plot=np.angle(matrix)\n",
    "  if (log==1):\n",
    "    image = axs.imshow(np.log(matrix_to_plot + 0.0000001))\n",
    "  elif (log==0):\n",
    "    image = axs.imshow(matrix_to_plot)\n",
    "  if (colbar):\n",
    "    fig.colorbar(image, ax = axs)\n",
    "  return \n",
    "\n",
    "\"\"\"Función que implementa la transformada discreta de Fourier bidimensional de forma matricial\n",
    "(para imágenes cuadradas)\"\"\"\n",
    "def DFT(matrix, inverse=False):\n",
    "    # matrix es la representación discreta de la imagen o función \n",
    "    # inverse = True (transformada inversa de fourier) ; inverse = False (transformada de Fourier)\n",
    "\n",
    "    #Se define la dimensión de la imagen (solo se utiliza N por ser cuadrada)\n",
    "    N=np.shape(matrix)[0]\n",
    "\n",
    "    #Se define el signo del kernel de la transformada, dependiendo si es inversa o no\n",
    "    if (inverse):\n",
    "        w=np.exp(1j*2*np.pi/N)\n",
    "    else:\n",
    "        w=np.exp(-1j*2*np.pi/N)\n",
    "    \n",
    "    # Se calcula la matriz W (cuyo origen se especifica en el informe)\n",
    "    W=np.zeros(np.shape(matrix),dtype=\"complex_\")\n",
    "    for p in range(N):\n",
    "        for q in range(N):\n",
    "            W[p][q]=(w)**(p*q)\n",
    "    \n",
    "    #Se calcula la transformada de Fourier discreta en su forma matricial (F=W.matrix.W)\n",
    "    F=np.matmul(W,matrix)\n",
    "    F=np.matmul(F,W)\n",
    "\n",
    "    #Se retorna F sin shift si es la transformada inversa (teniendo en cuenta que la matriz viene de un\n",
    "    #proceso previo de trnasformada de Fourier en el cual se ha aplicado el shift)\n",
    "    if (inverse):\n",
    "        return F\n",
    "    else:\n",
    "        return np.fft.fftshift(F)\n",
    "\n",
    "\"\"\" Función de Difracción Discreta por Espectro Angular usando DFTs\"\"\"\n",
    "def Angular_Spectrum_DFT(matrix,z,w_length,dx):\n",
    "    # matrix es la representación discreta de la imagen o función \n",
    "    # z es la distancia de propagación (metros)\n",
    "    # w_length es la longitud de onda (m)\n",
    "    # dx es el intervalo de muestreo de la función en el plano de entrada\n",
    "\n",
    "    #Se define la dimensión de la imagen (solo se utiliza N por ser cuadrada)\n",
    "    N=np.shape(matrix)[0]\n",
    "\n",
    "    #Se calcula el intervalo de muestreo en el dominio de las frecuancias\n",
    "    df=1/(dx*N)\n",
    "\n",
    "    #Se calcula la transformada de Fourier de la imagen o función\n",
    "    A_0=DFT(matrix)\n",
    "    A_0=(dx**2)*A_0\n",
    "\n",
    "    #Se definen las coordenadas frecuenciales con el fin de aplicar la función de transferencia\n",
    "    #adecuadamente\n",
    "    x=np.arange(-int(N/2),int(N/2),1)\n",
    "    y=np.arange(-int(N/2),int(N/2),1)\n",
    "    X,Y=np.meshgrid(x,y)\n",
    "    fX=X*(1/(N*dx))\n",
    "    fY=Y*(1/(N*dx))\n",
    "\n",
    "    #Se aplica la función de transferencia\n",
    "    A_z=A_0*np.exp(1j*z*(2*np.pi/w_length)*np.sqrt(1-(w_length**2)*(fX**2+fY**2)))      \n",
    "\n",
    "    #Se calcula la transformada inversa de Fourier de A_z y se retorna (U_z es la representación del\n",
    "    # camp óptico difractado a una distancia z) \n",
    "    U_z=DFT(A_z,'i')\n",
    "    U_z=(df**2)*U_z\n",
    "    return U_z\n",
    "\n",
    "\"\"\" Función de Difracción Discreta por Transformada de Fresnel usando DFTs\"\"\"\n",
    "def Fresnel_Transform_DFT(matrix,z,w_length,dx0):\n",
    "    # matrix es la representación discreta de la imagen o función \n",
    "    # z es la distancia de propagación (metros)\n",
    "    # w_length es la longitud de onda (m)\n",
    "    # dx0 es el intervalo de muestreo de la función en el plano de entrada\n",
    "\n",
    "    #Se define la dimensión de la imagen (solo se utiliza N por ser cuadrada)\n",
    "    N=np.shape(matrix)[0]\n",
    "\n",
    "    #Se calcula dx, el intervalo de muestreo en el plano de salida\n",
    "    dx=(w_length*z)/(dx0*N)\n",
    "\n",
    "    #Se definen las coordenadas del plano de entrada con el fin de aplicar las fases esféricas de entrada\n",
    "    k=(2*np.pi)/w_length\n",
    "    x0=np.arange(-int(N/2),int(N/2),1)\n",
    "    y0=np.arange(-int(N/2),int(N/2),1)\n",
    "    n0,m0=np.meshgrid(x0,y0)\n",
    "\n",
    "    #Se aplican las fases esféricas de entrada\n",
    "    U_prima=matrix*np.exp((1j*k/(2*z))*((dx0*n0)**2+(dx0*m0)**2))\n",
    "\n",
    "    #Se calcula la transformada de Fourier de la función imediatamente anterior\n",
    "    U_2prima=DFT(U_prima)\n",
    "    U_2prima=(dx**2)*U_2prima\n",
    "\n",
    "    #Se definen las coordenadas del plano de salida con el fin de aplicar las fases esféricas de salida\n",
    "    x=np.arange(-int(N/2),int(N/2),1)\n",
    "    y=np.arange(-int(N/2),int(N/2),1)\n",
    "    n,m=np.meshgrid(x,y)\n",
    "\n",
    "    #Se aplican las fases esféricas de salida y se obtiene el campo difractado a un distancia z\n",
    "    U_z=U_2prima*(np.exp(1j*k*z)/(1j*w_length*z))*np.exp((1j*k/(2*z))*((dx*n)**2+(dx*m)**2))\n",
    "    return U_z\n",
    "\n",
    "\"\"\" Función de Difracción Discreta por Espectro Angular usando FFTs\"\"\"\n",
    "def Angular_Spectrum_FFT(T, z, wave_length, dx):\n",
    "    #T := Transmitancia que entra al sistema\n",
    "    #dx := Dimención del espació discreto\n",
    "    #z := Distancia a propagar\n",
    "    #wave_length := longitud de onda\n",
    "    \n",
    "    A_0 = (dx**2)*(np.fft.fftshift(np.fft.fftn(T)))\n",
    "    \n",
    "    N,M = np.shape(T)\n",
    "\n",
    "    x = np.arange(-int(M/2),int(M/2),1)\n",
    "    y = np.arange(-int(N/2),int(N/2),1)\n",
    "    X,Y = np.meshgrid(x,y)\n",
    "    \n",
    "    fx = X*(1/(M*dx))\n",
    "    fy = Y*(1/(N*dx))\n",
    "    \n",
    "    k = 2*np.pi/wave_length\n",
    "    \n",
    "    trans = np.exp(1j*k*z*np.sqrt(1-(wave_length**2)*(fx**2 + fy**2)))\n",
    "    \n",
    "    A_z = A_0*trans\n",
    "    df=1/(N*dx)\n",
    "    U_end = (df**2)*np.fft.ifftn(A_z)\n",
    "    return U_end\n",
    "\n",
    "\"\"\" Función de Difracción Discreta por Transformada de Fresnel usando FFTs\"\"\"\n",
    "def Fresnel_Transform_FFT(matrix,z,w_length,dx0):\n",
    "    # matrix es la representación discreta de la imagen o función \n",
    "    # z es la distancia de propagación (metros)\n",
    "    # w_length es la longitud de onda (m)\n",
    "    # dx0 es el intervalo de muestreo de la función en el plano de entrada\n",
    "\n",
    "    #Se define la dimensión de la imagen (solo se utiliza N por ser cuadrada)\n",
    "    N=np.shape(matrix)[0]\n",
    "\n",
    "    #Se calcula dx, el intervalo de muestreo en el plano de salida\n",
    "    dx=(w_length*z)/(dx0*N)\n",
    "\n",
    "    #Se definen las coordenadas del plano de entrada con el fin de aplicar las fases esféricas de entrada\n",
    "    k=(2*np.pi)/w_length\n",
    "    x0=np.arange(-int(N/2),int(N/2),1)\n",
    "    y0=np.arange(-int(N/2),int(N/2),1)\n",
    "    n0,m0=np.meshgrid(x0,y0)\n",
    "\n",
    "    #Se aplican las fases esféricas de entrada\n",
    "    U_prima=matrix*np.exp((1j*k/(2*z))*((dx0*n0)**2+(dx0*m0)**2))\n",
    "\n",
    "    #Se calcula la transformada de Fourier de la función imediatamente anterior\n",
    "    U_2prima= np.fft.fftshift(np.fft.fftn(U_prima))\n",
    "    U_2prima=(dx**2)*U_2prima\n",
    "\n",
    "    #Se definen las coordenadas del plano de salida con el fin de aplicar las fases esféricas de salida\n",
    "    x=np.arange(-int(N/2),int(N/2),1)\n",
    "    y=np.arange(-int(N/2),int(N/2),1)\n",
    "    n,m=np.meshgrid(x,y)\n",
    "\n",
    "    #Se aplican las fases esféricas de salida y se obtiene el campo difractado a un distancia z\n",
    "    U_z=U_2prima*(np.exp(1j*k*z)/(1j*w_length*z))*np.exp((1j*k/(2*z))*((dx*n)**2+(dx*m)**2))\n",
    "    return U_z\n",
    "\n",
    "#funcion general para calculo de la difraccion\n",
    "def Diffraction(image, z, w_length, dx,type = \"FFT\"):\n",
    "  N = np.shape(image)[0] \n",
    "  param = N*(dx**2)/w_length\n",
    "  if z >= param:\n",
    "    print(\"Tipo: Fresnel, parámetro: \", param)\n",
    "    if type == \"FFT\":\n",
    "      result = Fresnel_Transform_FFT(image,z,w_length,dx)\n",
    "    elif type == \"DFT\": \n",
    "      result = Fresnel_Transform_DFT(image,z,w_length,dx)\n",
    "    else:\n",
    "      result = \"ERROR, tipo equívocado\"\n",
    "  elif z < param:\n",
    "    print(\"Tipo: Espectro Angular, parámetro: \", param)\n",
    "    if type == \"FFT\":\n",
    "      result = Angular_Spectrum_FFT(image,z,w_length,dx)\n",
    "    elif type == \"DFT\": \n",
    "      result = Angular_Spectrum_DFT(image,z,w_length,dx)\n",
    "    else:\n",
    "      result = \"ERROR, tipo equívocado\"\n",
    "  return result\n",
    "\n"
   ]
  },
  {
   "cell_type": "code",
   "execution_count": 7,
   "metadata": {},
   "outputs": [
    {
     "data": {
      "text/plain": [
       "' \\ntimes1_FFT = []\\ntimes1_DFT = []\\ntimes2_FFT = []\\ntimes2_DFT = []\\nNs = []\\nfor N in range(300, 700,2):\\n    ini1_FFT = time.time()\\n    Angular_Spectrum_FFT(Mask_Circle(N,100), zAS, w_length, dx)\\n    end1_FFT = time.time()\\n    times1_FFT.append(end1_FFT-ini1_FFT)\\n    ini1_DFT = time.time()\\n    Angular_Spectrum_DFT(Mask_Circle(N,100), zAS, w_length, dx)\\n    end1_DFT = time.time()\\n    times1_DFT.append(end1_DFT-ini1_DFT)\\n    ini2_FFT = time.time()\\n    Fresnel_Transform_FFT(Mask_Circle(N,100), zF, w_length, dx)\\n    end2_FFT = time.time()\\n    times2_FFT.append(end2_FFT-ini2_FFT)\\n    ini2_DFT = time.time()\\n    Fresnel_Transform_DFT(Mask_Circle(N,100), zF, w_length, dx)\\n    end2_DFT = time.time()\\n    times2_DFT.append(end2_DFT-ini2_DFT)\\n    Ns.append(N/100)\\n\\nfig, axs = plt.subplots(1, 2, sharey=True)\\naxs[0].plot(Ns,times1_FFT, label = \"FFT\")\\naxs[0].plot(Ns,times1_DFT, label = \"DFT\")\\naxs[0].set_title(\"Espectro angular a 100mm\")\\naxs[0].set_xlabel(\"Tamaño de la imagen (mm)\")\\naxs[0].set_ylabel(\"Tiempo de cálculo (s)\")\\naxs[0].legend()\\n\\naxs[1].plot(Ns,times2_FFT, label = \"FFT\")\\naxs[1].plot(Ns,times2_DFT, label = \"DFT\")\\naxs[1].set_title(\"Transformada de Fresnel a 300mm\")\\naxs[1].set_xlabel(\"Tamaño de la imagen (N)\")\\naxs[1].set_ylabel(\"Tiempo de cálculo (s)\")\\naxs[1].legend()\\n\\nplt.show()\\n '"
      ]
     },
     "execution_count": 7,
     "metadata": {},
     "output_type": "execute_result"
    }
   ],
   "source": [
    "\n",
    "\"\"\" A continuación se presenta un ejemplo del funcionamiento de los diferentes métodos de cálculo \n",
    "    para la difracción de una apertura circular de diametro 3mm a una distancia de 60mm para espectro angular \n",
    "    y de 300mm para el método de transformada de Fresnel, iluminando\n",
    "    con luz de 650nm (ir al documento donde se compara el resultado con el resultado real) \"\"\"\n",
    "\n",
    "#Se crea computacionalmente la apertura circular (el diámetro se acomoda con las dimensiones de muestreo)\n",
    "circ_aperture= Mask_Circle(700,100)\n",
    "\n",
    "#Se definen los parámetros\n",
    "zF = 300*mm\n",
    "zAS = 100*mm\n",
    "w_length = 633*nm\n",
    "dx = 10*um\n",
    "\n",
    "#Definimos los patrones de difracción para cada método\n",
    "U_AS_FFT = Angular_Spectrum_FFT(circ_aperture, zAS, w_length, dx)\n",
    "U_AS_DFT = Angular_Spectrum_DFT(circ_aperture, zAS, w_length, dx)\n",
    "U_F_FFT = Fresnel_Transform_FFT(circ_aperture, zF, w_length, dx)\n",
    "U_F_DFT = Fresnel_Transform_DFT(circ_aperture, zF, w_length, dx)\n",
    "\n",
    "#Gráficamos\n",
    "fig, axs = plt.subplots(1, 2, sharey=True)\n",
    "Complex_Plot(U_AS_FFT,\"A\",0,axs[0], fig, False)\n",
    "axs[0].set_title(\"a) Espectro Angular FFT a 100mm\")\n",
    "axs[0].set_xlabel('0.01mm/píxel')\n",
    "Complex_Plot(U_AS_DFT,\"A\",0,axs[1], fig, False)\n",
    "axs[1].set_title(\"b) Espectro Angular DFT a 100mm\")\n",
    "axs[1].set_xlabel('0.01mm/píxel')\n",
    "#Complex_Plot(U_F_FFT,\"A\",0,axs[1][0], fig, True)\n",
    "\"\"\" axs[1][0].set_title(\"Transformada de Fresnel FFT a 300mm\")\n",
    "Complex_Plot(U_F_DFT,\"A\",0,axs[1][1], fig, True)\n",
    "axs[1][1].set_title(\"Transformada de Fresnel DFT a 300mm\") \"\"\"\n",
    "\n",
    "#fig.suptitle('Difracción escalar')\n",
    "#fig.tight_layout()\n",
    "plt.show()\n",
    "\"\"\" \n",
    "times1_FFT = []\n",
    "times1_DFT = []\n",
    "times2_FFT = []\n",
    "times2_DFT = []\n",
    "Ns = []\n",
    "for N in range(300, 700,2):\n",
    "    ini1_FFT = time.time()\n",
    "    Angular_Spectrum_FFT(Mask_Circle(N,100), zAS, w_length, dx)\n",
    "    end1_FFT = time.time()\n",
    "    times1_FFT.append(end1_FFT-ini1_FFT)\n",
    "    ini1_DFT = time.time()\n",
    "    Angular_Spectrum_DFT(Mask_Circle(N,100), zAS, w_length, dx)\n",
    "    end1_DFT = time.time()\n",
    "    times1_DFT.append(end1_DFT-ini1_DFT)\n",
    "    ini2_FFT = time.time()\n",
    "    Fresnel_Transform_FFT(Mask_Circle(N,100), zF, w_length, dx)\n",
    "    end2_FFT = time.time()\n",
    "    times2_FFT.append(end2_FFT-ini2_FFT)\n",
    "    ini2_DFT = time.time()\n",
    "    Fresnel_Transform_DFT(Mask_Circle(N,100), zF, w_length, dx)\n",
    "    end2_DFT = time.time()\n",
    "    times2_DFT.append(end2_DFT-ini2_DFT)\n",
    "    Ns.append(N/100)\n",
    "\n",
    "fig, axs = plt.subplots(1, 2, sharey=True)\n",
    "axs[0].plot(Ns,times1_FFT, label = \"FFT\")\n",
    "axs[0].plot(Ns,times1_DFT, label = \"DFT\")\n",
    "axs[0].set_title(\"Espectro angular a 100mm\")\n",
    "axs[0].set_xlabel(\"Tamaño de la imagen (mm)\")\n",
    "axs[0].set_ylabel(\"Tiempo de cálculo (s)\")\n",
    "axs[0].legend()\n",
    "\n",
    "axs[1].plot(Ns,times2_FFT, label = \"FFT\")\n",
    "axs[1].plot(Ns,times2_DFT, label = \"DFT\")\n",
    "axs[1].set_title(\"Transformada de Fresnel a 300mm\")\n",
    "axs[1].set_xlabel(\"Tamaño de la imagen (N)\")\n",
    "axs[1].set_ylabel(\"Tiempo de cálculo (s)\")\n",
    "axs[1].legend()\n",
    "\n",
    "plt.show()\n",
    " \"\"\""
   ]
  },
  {
   "cell_type": "code",
   "execution_count": 12,
   "metadata": {},
   "outputs": [
    {
     "name": "stdout",
     "output_type": "stream",
     "text": [
      "Tipo: Espectro Angular, parámetro:  0.11058451816745651\n",
      "Tipo: Espectro Angular, parámetro:  0.11058451816745651\n",
      "Tipo: Espectro Angular, parámetro:  0.11058451816745651\n"
     ]
    }
   ],
   "source": [
    "#Se genera una abertura y un obstáculo circulares, siendo el obstáculo más grande\n",
    "aperture=Mask_Circle(700,100)\n",
    "obstacle=Mask_Circle(700,200,'O')\n",
    "\n",
    "#Se crea un obstáculo en forma de dona a partir de lo anterior\n",
    "donut=aperture+obstacle\n",
    "\n",
    "#Se calculan los patrones de difracción de la apertura circular, el obstáculo circular y el obstáculo en forma de dona\n",
    "\n",
    "U_aperture=Diffraction(aperture,80*mm,633*nm,10*um)\n",
    "U_obstacle=Diffraction(obstacle,80*mm,633*nm,10*um)\n",
    "U_donut=Diffraction(donut,80*mm,633*nm,10*um)\n",
    "\n",
    "#Se calcula el patrón de difracción del obstáculo en forma de dona aplicando el principio de Babinet\n",
    "U_donut_babinet=U_aperture+U_obstacle\n",
    "\n",
    "#Se grafican los resultados para los patrones de difracción de la dona y se comprueba su similitud restando\n",
    "#los campos\n",
    "fig1, axs = plt.subplots(1, 1,figsize=(15,10))\n",
    "Complex_Plot(donut,\"A\",0,axs, fig1 ,colbar= False)\n",
    "axs.set_xlabel('0.01mm/píxel')\n",
    "fig2, axs = plt.subplots(1, 2,figsize=(15,10),sharey=True)\n",
    "\n",
    "Complex_Plot(U_donut,\"A\",0,axs[0], fig2 ,colbar= False)\n",
    "Complex_Plot(U_donut_babinet,\"A\",0,axs[1],fig2, colbar= False)\n",
    "#Complex_Plot(U_donut-U_donut_babinet,\"A\",0,axs[2],fig2, colbar= True)\n",
    "axs[0].set_title(\"a) Patrón Calculado Directamente\")\n",
    "axs[1].set_title(\"b) Patrón Calculado con Babinet\")\n",
    "axs[0].set_xlabel('0.01mm/píxel')\n",
    "axs[1].set_xlabel('0.01mm/píxel')\n",
    "#axs[2].set_title(\"Resta\")\n",
    "\n",
    "plt.show()"
   ]
  },
  {
   "cell_type": "code",
   "execution_count": 11,
   "metadata": {},
   "outputs": [
    {
     "name": "stdout",
     "output_type": "stream",
     "text": [
      "Tipo: Espectro Angular, parámetro:  0.047393364928909935\n"
     ]
    }
   ],
   "source": [
    "#Se imortan las librerías relevantes y las unidades\n",
    "from resources.functions import *\n",
    "\n",
    "#Parámetros del sistema\n",
    "N = 300 #Tamaño de la imagen\n",
    "dx = 10*um #Tamaño de pixel\n",
    "w_length = 633*nm #Longitud de onda\n",
    "r = 25 #píxeles\n",
    "\n",
    "#Calculamos la transmitancia\n",
    "image = Mask_Circle(N, r, kind= \"O\")\n",
    "\"\"\"\n",
    "center = []\n",
    "zs = []\n",
    "#Hacemos el barrido de la intensidad del campo en el eje óptico para diferentes posiciones axiales\n",
    "for z in range(0,3000,1):\n",
    "    zs.append(z/100)\n",
    "    mat = Diffraction(image,z*dx,w_length,dx)\n",
    "    center.append(np.abs(mat[int(N/2)][int(N/2)]))\n",
    "#Gráficamos\n",
    "fig1, axs = plt.subplots(1,1)\n",
    "axs.plot(zs,center)\n",
    "axs.set_xlabel('Distancia de Propagación (mm)')\n",
    "axs.set_ylabel('Amplitud del Campo Difractado')\n",
    "\n",
    "#Se grafica la amplitud del campo a lo largo de una línea horizontal que pasa por el centro para diferentes posiciones axiales\n",
    "#escogidas según la gráfica anterior\n",
    "\n",
    "fig2, axs = plt.subplots(2,5,sharey=True,sharex=True)\n",
    "patterns=[]\n",
    "for j in range(1000,3000,100):\n",
    "    patterns.append(Diffraction(image,j*dx,w_length,dx))\n",
    "axs[0][0].plot(range(0,600),np.abs(patterns[0][300]))\n",
    "axs[0][1].plot(range(0,600),np.abs(patterns[1][300]))\n",
    "axs[0][2].plot(range(0,600),np.abs(patterns[2][300]))\n",
    "axs[0][3].plot(range(0,600),np.abs(patterns[3][300]))\n",
    "axs[0][4].plot(range(0,600),np.abs(patterns[4][300]))\n",
    "axs[1][0].plot(range(0,600),np.abs(patterns[5][300]))\n",
    "axs[1][1].plot(range(0,600),np.abs(patterns[6][300]))\n",
    "axs[1][2].plot(range(0,600),np.abs(patterns[7][300]))\n",
    "axs[1][3].plot(range(0,600),np.abs(patterns[8][300]))\n",
    "axs[1][4].plot(range(0,600),np.abs(patterns[9][300]))\n",
    "\n",
    "axs[0][0].set_title('z=10mm')\n",
    "axs[0][1].set_title('z=11mm')\n",
    "axs[0][2].set_title('z=12mm')\n",
    "axs[0][3].set_title('z=13mm')\n",
    "axs[0][4].set_title('z=14mm')\n",
    "axs[1][0].set_title('z=15mm')\n",
    "axs[1][1].set_title('z=16mm')\n",
    "axs[1][2].set_title('z=17mm')\n",
    "axs[1][3].set_title('z=18mm')\n",
    "axs[1][4].set_title('z=19mm')\n",
    "\"\"\"\n",
    "#Se grafica el patrón de difracción en una posición en la cual es evidente el punto brillante en el centro\n",
    "fig3, axs = plt.subplots(1,1)\n",
    "Complex_Plot(Diffraction(image,25*mm,w_length,dx),'A',0,axs,fig3)\n",
    "\n",
    "plt.show()"
   ]
  },
  {
   "cell_type": "code",
   "execution_count": null,
   "metadata": {},
   "outputs": [],
   "source": []
  }
 ],
 "metadata": {
  "kernelspec": {
   "display_name": "Python 3 (ipykernel)",
   "language": "python",
   "name": "python3"
  },
  "language_info": {
   "codemirror_mode": {
    "name": "ipython",
    "version": 3
   },
   "file_extension": ".py",
   "mimetype": "text/x-python",
   "name": "python",
   "nbconvert_exporter": "python",
   "pygments_lexer": "ipython3",
   "version": "3.9.7"
  }
 },
 "nbformat": 4,
 "nbformat_minor": 4
}
