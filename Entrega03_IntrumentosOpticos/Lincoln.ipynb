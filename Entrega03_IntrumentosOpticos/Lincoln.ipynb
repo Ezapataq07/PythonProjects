{
 "cells": [
  {
   "cell_type": "code",
   "execution_count": 1,
   "id": "4f5fc3a7",
   "metadata": {},
   "outputs": [],
   "source": [
    "import numpy as np\n",
    "import matplotlib.pyplot as plt\n",
    "import cv2\n",
    "%matplotlib qt\n",
    "#Función para calcular la formación de imgenes de una lente en el plano focal si el objeto está en el otro plano focal\n",
    "def Lenses2F(image,landa=1,f=1,shift=0):\n",
    "  #image: Imagen que se ubica en el foco del plano objeto y pasará por la lente \n",
    "  #landa: Longitud de onda de la luente de luz que ingresa al sistema\n",
    "  #f: distancia focal de la lente\n",
    "  #shift: 0 si no se desea realizar un fftshit a la matriz y 1 en caso contrario\n",
    "  if (shift==1):\n",
    "    result = (-1j/(landa*f))*(np.fft.fftshift(np.fft.fftn(image)))\n",
    "  elif (shift==0):\n",
    "    result = (-1j/(landa*f))*(np.fft.fftn(image))\n",
    "  return result\n",
    "  \n",
    "#Función para gráficar matrices complejas \n",
    "def Complex_Plot(matrix,kind,log,axs,fig = 0, colbar = False):\n",
    "  #matrix: matriz a gráficar\n",
    "  #kind: I=Intensidad, A=Amplitud, P=Fase\n",
    "  #log: 1 si se desea escala logarítmica 0 en caso contrario\n",
    "  if (kind=='I'):\n",
    "    matrix_to_plot=np.abs(matrix)**2\n",
    "  elif (kind=='A'):\n",
    "    matrix_to_plot=np.abs(matrix)\n",
    "  elif (kind=='P'):\n",
    "     matrix_to_plot=np.angle(matrix)\n",
    "  if (log==1):\n",
    "    image = axs.imshow(np.log(matrix_to_plot + 0.0000001))\n",
    "  elif (log==0):\n",
    "    image = axs.imshow(matrix_to_plot)\n",
    "  if (colbar):\n",
    "    fig.colorbar(image, ax = axs)\n",
    "  return \n",
    "\n",
    "#Definimos el sistema 4F a partir de las funciones que ya teniamos definidas.\n",
    "def Lenses4F(image,landa,f):\n",
    "    Half01=Lenses2F(image,landa,f,1) #Usamos el método de dividir el sistema 4f en dos mitades.\n",
    "    Half02=Lenses2F(Half01,landa,f,0)\n",
    "    return Half02\n"
   ]
  },
  {
   "cell_type": "code",
   "execution_count": 44,
   "id": "5c9673ab",
   "metadata": {},
   "outputs": [],
   "source": [
    "def Complex_Plot(matrix,kind,log):\n",
    "  #kind: I=Intensidad, A=Amplitud, P=Fase\n",
    "  plt.figure()\n",
    "  if (kind=='I'):\n",
    "    matrix_to_plot=np.abs(matrix)**2\n",
    "  elif (kind=='A'):\n",
    "    matrix_to_plot=np.abs(matrix)\n",
    "  elif (kind=='P'):\n",
    "     matrix_to_plot=np.angle(matrix)\n",
    "  if (log==1):\n",
    "    plt.imshow(np.log(matrix_to_plot+0.00001))\n",
    "    plt.colorbar()\n",
    "  elif (log==0):\n",
    "    plt.imshow(matrix_to_plot)\n",
    "    #plt.colorbar()\n",
    "  return "
   ]
  },
  {
   "cell_type": "code",
   "execution_count": 3,
   "id": "f9b7207b",
   "metadata": {},
   "outputs": [],
   "source": [
    "\n",
    "\n",
    "#Función para crear regillas circulares\n",
    "def Mask_Circle(N,r,kind='A'):\n",
    "  #N dimensión de la matriz\n",
    "  #r es el radio del circulo (en píxeles)\n",
    "  #kind: 'A' si es una apertura, 'O' si es un obstáculo\n",
    "  if (kind=='A'):\n",
    "    circ_aperture=np.zeros((N,N),dtype=\"uint8\")\n",
    "    coordy=int(np.shape(circ_aperture)[0]/2)\n",
    "    coordx=int(np.shape(circ_aperture)[1]/2)\n",
    "    cv2.circle(circ_aperture,(coordx,coordy),r,1,-1)\n",
    "    return circ_aperture\n",
    "  elif (kind=='O'):\n",
    "    circ_obstacle=np.ones((N,N),dtype=\"uint8\")\n",
    "    coordy=int(np.shape(circ_obstacle)[0]/2)\n",
    "    coordx=int(np.shape(circ_obstacle)[1]/2)\n",
    "    cv2.circle(circ_obstacle,(coordx,coordy),r,0,-1)\n",
    "    return circ_obstacle\n",
    "#Función para gráficar matrices complejas "
   ]
  },
  {
   "cell_type": "code",
   "execution_count": 4,
   "id": "222a0a38",
   "metadata": {},
   "outputs": [],
   "source": [
    "gala = cv2.imread('gala.jpg', 0)"
   ]
  },
  {
   "cell_type": "code",
   "execution_count": 5,
   "id": "ba65c7aa",
   "metadata": {},
   "outputs": [],
   "source": [
    "Complex_Plot(gala,'A',0)"
   ]
  },
  {
   "cell_type": "code",
   "execution_count": 6,
   "id": "61dd7c05",
   "metadata": {},
   "outputs": [
    {
     "data": {
      "text/plain": [
       "(2835, 2182)"
      ]
     },
     "execution_count": 6,
     "metadata": {},
     "output_type": "execute_result"
    }
   ],
   "source": [
    "np.shape(gala)\n"
   ]
  },
  {
   "cell_type": "code",
   "execution_count": 31,
   "id": "38858d71",
   "metadata": {},
   "outputs": [
    {
     "data": {
      "text/plain": [
       "array([[0, 0, 0, ..., 0, 0, 0],\n",
       "       [0, 0, 0, ..., 0, 0, 0],\n",
       "       [0, 0, 0, ..., 0, 0, 0],\n",
       "       ...,\n",
       "       [0, 0, 0, ..., 0, 0, 0],\n",
       "       [0, 0, 0, ..., 0, 0, 0],\n",
       "       [0, 0, 0, ..., 0, 0, 0]], dtype=uint8)"
      ]
     },
     "execution_count": 31,
     "metadata": {},
     "output_type": "execute_result"
    }
   ],
   "source": [
    "dx=dy=1.48*mm\n",
    "dfx=1/(2182*dx)\n",
    "dfy=1/(2835*dy)\n",
    "mask=np.zeros(np.shape(gala),dtype=\"uint8\")\n",
    "coordy=int(np.shape(mask)[0]/2)\n",
    "coordx=int(np.shape(mask)[1]/2)\n",
    "#cv2.circle(mask,(coordx,coordy),4,1,-1)\n",
    "cv2.ellipse(mask, (coordx,coordy), (18,30), 0, 0, 360, 1, -1)"
   ]
  },
  {
   "cell_type": "code",
   "execution_count": 32,
   "id": "be191dd8",
   "metadata": {},
   "outputs": [],
   "source": [
    "Complex_Plot(mask,'A',0)"
   ]
  },
  {
   "cell_type": "code",
   "execution_count": 9,
   "id": "d333c025",
   "metadata": {},
   "outputs": [],
   "source": [
    "gala_fft=(dx**2)*np.fft.fftshift(np.fft.fftn(gala))\n",
    "gala_filtered=gala_fft*mask\n",
    "gala_final=(dfx*dfy)*np.fft.ifftn(gala_filtered)"
   ]
  },
  {
   "cell_type": "code",
   "execution_count": 10,
   "id": "8d3dcee4",
   "metadata": {},
   "outputs": [],
   "source": [
    "Complex_Plot(gala_final,'A',0)"
   ]
  },
  {
   "cell_type": "code",
   "execution_count": 11,
   "id": "7e658339",
   "metadata": {},
   "outputs": [],
   "source": [
    "#####################################################################################"
   ]
  },
  {
   "cell_type": "code",
   "execution_count": 12,
   "id": "99d0328b",
   "metadata": {},
   "outputs": [],
   "source": [
    "w_length=633*nm"
   ]
  },
  {
   "cell_type": "code",
   "execution_count": 13,
   "id": "89cbfa5b",
   "metadata": {},
   "outputs": [
    {
     "data": {
      "text/plain": [
       "array([[0, 0, 0, ..., 0, 0, 0],\n",
       "       [0, 0, 0, ..., 0, 0, 0],\n",
       "       [0, 0, 0, ..., 0, 0, 0],\n",
       "       ...,\n",
       "       [0, 0, 0, ..., 0, 0, 0],\n",
       "       [0, 0, 0, ..., 0, 0, 0],\n",
       "       [0, 0, 0, ..., 0, 0, 0]], dtype=uint8)"
      ]
     },
     "execution_count": 13,
     "metadata": {},
     "output_type": "execute_result"
    }
   ],
   "source": [
    "mask_pad=np.zeros((2834,2834),dtype=\"uint8\")\n",
    "coordy=int(np.shape(mask_pad)[0]/2)\n",
    "coordx=int(np.shape(mask_pad)[1]/2)\n",
    "cv2.circle(mask_pad,(coordx,coordy),18,1,-1)"
   ]
  },
  {
   "cell_type": "code",
   "execution_count": 14,
   "id": "fa30b3c9",
   "metadata": {},
   "outputs": [],
   "source": [
    "Complex_Plot(mask_pad,'A',0)"
   ]
  },
  {
   "cell_type": "code",
   "execution_count": 15,
   "id": "081346c6",
   "metadata": {},
   "outputs": [],
   "source": [
    "\"\"\" Función de Difracción Discreta por Transformada de Fresnel usando FFTs\"\"\"\n",
    "def Fresnel_Transform_FFT(matrix,z,w_length,dx0):\n",
    "    # matrix es la representación discreta de la imagen o función \n",
    "    # z es la distancia de propagación (metros)\n",
    "    # w_length es la longitud de onda (m)\n",
    "    # dx0 es el intervalo de muestreo de la función en el plano de entrada\n",
    "\n",
    "    #Se define la dimensión de la imagen (solo se utiliza N por ser cuadrada)\n",
    "    N=np.shape(matrix)[0]\n",
    "\n",
    "    #Se calcula dx, el intervalo de muestreo en el plano de salida\n",
    "    dx=(w_length*z)/(dx0*N)\n",
    "\n",
    "    #Se definen las coordenadas del plano de entrada con el fin de aplicar las fases esféricas de entrada\n",
    "    k=(2*np.pi)/w_length\n",
    " \n",
    "\n",
    "    #Se aplican las fases esféricas de entrada\n",
    "    U_prima=matrix\n",
    "\n",
    "    #Se calcula la transformada de Fourier de la función imediatamente anterior\n",
    "    U_2prima= np.fft.fftshift(np.fft.fftn(U_prima))\n",
    "    U_2prima=(dx**2)*U_2prima\n",
    "\n",
    "    #Se definen las coordenadas del plano de salida con el fin de aplicar las fases esféricas de salida\n",
    "    x=np.arange(-int(N/2),int(N/2),1)\n",
    "    y=np.arange(-int(N/2),int(N/2),1)\n",
    "    n,m=np.meshgrid(x,y)\n",
    "\n",
    "    #Se aplican las fases esféricas de salida y se obtiene el campo difractado a un distancia z\n",
    "    U_z=U_2prima*(np.exp(1j*k*z)/(1j*w_length*z))*np.exp((1j*k/(2*z))*((dx*n)**2+(dx*m)**2))\n",
    "    return U_z"
   ]
  },
  {
   "cell_type": "code",
   "execution_count": null,
   "id": "a7a775c1",
   "metadata": {},
   "outputs": [],
   "source": [
    "zi=20*mm\n",
    "zo=168\n",
    "M=-zi/zo"
   ]
  },
  {
   "cell_type": "code",
   "execution_count": null,
   "id": "7d6dfe5e",
   "metadata": {},
   "outputs": [],
   "source": [
    "h=Fresnel_Transform_FFT(mask_pad,20*mm,w_length,dfx)\n",
    "h=(1/abs(M))*h"
   ]
  },
  {
   "cell_type": "code",
   "execution_count": null,
   "id": "08ffc3b5",
   "metadata": {},
   "outputs": [],
   "source": [
    "Complex_Plot(h,'A',0)"
   ]
  },
  {
   "cell_type": "code",
   "execution_count": null,
   "id": "8ade5e4c",
   "metadata": {},
   "outputs": [],
   "source": [
    "Ug=(1/abs(M))*gala\n",
    "lincoln=np.fft.ifftn((dx**2)*(np.fft.fftshift(np.fft.fftn(Ug)))*mask)"
   ]
  },
  {
   "cell_type": "code",
   "execution_count": null,
   "id": "4d3782e3",
   "metadata": {},
   "outputs": [],
   "source": [
    "Complex_Plot(lincoln,'A',0)"
   ]
  },
  {
   "cell_type": "code",
   "execution_count": null,
   "id": "eacfebd8",
   "metadata": {},
   "outputs": [],
   "source": []
  },
  {
   "cell_type": "code",
   "execution_count": null,
   "id": "cb641c8d",
   "metadata": {},
   "outputs": [],
   "source": []
  },
  {
   "cell_type": "code",
   "execution_count": null,
   "id": "10dc3d5a",
   "metadata": {},
   "outputs": [],
   "source": []
  },
  {
   "cell_type": "code",
   "execution_count": null,
   "id": "eb2ca69a",
   "metadata": {},
   "outputs": [],
   "source": [
    "Complex_Plot(gala,'A',0)"
   ]
  },
  {
   "cell_type": "code",
   "execution_count": 19,
   "id": "54e684fe",
   "metadata": {},
   "outputs": [],
   "source": [
    "N=1000\n",
    "nm=1e-9\n",
    "mm=1e-3\n",
    "dx=0.01*mm\n",
    "w_length=2*mm\n",
    "x=np.arange(-int(N/2),int(N/2),1)\n",
    "y=np.arange(-int(N/2),int(N/2),1)\n",
    "X,Y=np.meshgrid(x,y)\n",
    "\n",
    "k=2*np.pi/w_length\n",
    "\n",
    "\n",
    "img=np.cos(X*dx*k)+1\n"
   ]
  },
  {
   "cell_type": "code",
   "execution_count": 20,
   "id": "f962fd0d",
   "metadata": {},
   "outputs": [],
   "source": [
    "Complex_Plot(img,'A',0)"
   ]
  },
  {
   "cell_type": "code",
   "execution_count": 22,
   "id": "6210e1ae",
   "metadata": {},
   "outputs": [],
   "source": [
    "Complex_Plot((dx*2)*np.fft.fftshift(np.fft.fftn(img)),'A',1)"
   ]
  },
  {
   "cell_type": "code",
   "execution_count": null,
   "id": "6de31194",
   "metadata": {},
   "outputs": [],
   "source": []
  },
  {
   "cell_type": "code",
   "execution_count": null,
   "id": "e437a7c7",
   "metadata": {},
   "outputs": [],
   "source": []
  },
  {
   "cell_type": "markdown",
   "id": "bb97bcfa",
   "metadata": {},
   "source": [
    "# Punto 1"
   ]
  },
  {
   "cell_type": "code",
   "execution_count": 48,
   "id": "8151b6c9",
   "metadata": {},
   "outputs": [],
   "source": [
    "import numpy as np\n",
    "import matplotlib.pyplot as plt\n",
    "import cv2\n",
    "\n",
    "#Definimos unidades\n",
    "nm = 1e-9\n",
    "um = 1e-6\n",
    "mm = 1e-3\n",
    "m = 1\n",
    "\n",
    "#Función para crear rejillas circulares con diferentes coordenadas y tamaños\n",
    "def Mask_Circle(shape,r,kind='A',coordx=0,coordy=0):\n",
    "    #shape dimensiones de la matriz (2-tupla)\n",
    "    #r es el radio del circulo (en píxeles)\n",
    "    #kind: 'A' si es una apertura, 'O' si es un obstáculo\n",
    "    #coordx y coordy son las coordenadas del centro en el eje x y y respectivamente. Definidas en el centro de la imagen por defecto\n",
    "    if (coordx==0):\n",
    "        coordx=int(shape[1]/2)\n",
    "    if (coordy==0):\n",
    "        coordy=int(shape[0]/2)\n",
    "\n",
    "    if (kind=='A'):\n",
    "        circ_aperture=np.zeros(shape,dtype=\"uint8\")\n",
    "        cv2.circle(circ_aperture,(coordx,coordy),r,1,-1)\n",
    "        return circ_aperture\n",
    "    elif (kind=='O'):\n",
    "        circ_obstacle=np.ones(shape,dtype=\"uint8\")\n",
    "        cv2.circle(circ_obstacle,(coordx,coordy),r,0,-1)\n",
    "        return circ_obstacle\n",
    "\n",
    "#Función para gráficar matrices complejas \n",
    "def Complex_Plot(matrix,kind,log,axs,fig = 0, colbar = False):\n",
    "  #matrix: matriz a gráficar\n",
    "  #kind: I=Intensidad, A=Amplitud, P=Fase\n",
    "  #log: 1 si se desea escala logarítmica 0 en caso contrario\n",
    "\n",
    "  if (kind=='I'):\n",
    "    matrix_to_plot=np.abs(matrix)**2\n",
    "  elif (kind=='A'):\n",
    "    matrix_to_plot=np.abs(matrix)\n",
    "  elif (kind=='P'):\n",
    "     matrix_to_plot=np.angle(matrix)\n",
    "  if (log==1):\n",
    "    image = axs.imshow(np.log(matrix_to_plot + 0.0000001))\n",
    "  elif (log==0):\n",
    "    image = axs.imshow(matrix_to_plot)\n",
    "  if (colbar):\n",
    "    fig.colorbar(image, ax = axs)\n",
    "  return \n",
    "\n",
    "  #Función para crear transmitancias con forma de elipse\n",
    "def Mask_Ellipse(shape,rx,ry,kind='A'):\n",
    "  #shape son las dimensiones de la matriz (2-tupla)\n",
    "  #rx es el radio de la elipse en la dirección horizontal\n",
    "  #ry es el radio de la elipse en la dirección vertical\n",
    "  #kind: 'A' si es una apertura, 'O' si es un obstáculo\n",
    "  if (kind=='A'):\n",
    "    e_aperture=np.zeros(shape,dtype=\"uint8\")\n",
    "    coordy=int(np.shape(e_aperture)[0]/2)\n",
    "    coordx=int(np.shape(e_aperture)[1]/2)\n",
    "    cv2.ellipse(e_aperture, (coordx,coordy), (rx,ry), 0, 0, 360, 1, -1)\n",
    "    return e_aperture\n",
    "  elif (kind=='O'):\n",
    "    e_obstacle=np.ones(shape,dtype=\"uint8\")\n",
    "    coordy=int(np.shape(e_obstacle)[0]/2)\n",
    "    coordx=int(np.shape(e_obstacle)[1]/2)\n",
    "    cv2.ellipse(e_obstacle, (coordx,coordy), (rx,ry), 0, 0, 360, 0, -1)\n",
    "    return e_obstacle"
   ]
  },
  {
   "cell_type": "code",
   "execution_count": 58,
   "id": "4740234d",
   "metadata": {},
   "outputs": [
    {
     "name": "stderr",
     "output_type": "stream",
     "text": [
      "C:\\Users\\ezque\\AppData\\Local\\Temp/ipykernel_11552/881990615.py:67: RuntimeWarning: More than 20 figures have been opened. Figures created through the pyplot interface (`matplotlib.pyplot.figure`) are retained until explicitly closed and may consume too much memory. (To control this warning, see the rcParam `figure.max_open_warning`).\n",
      "  plt.figure()\n"
     ]
    }
   ],
   "source": [
    "%matplotlib qt\n",
    "plt.set_cmap('gist_gray')\n",
    "\n",
    "##############################################################\n",
    "#Se importa la imagen del lienzo\n",
    "#Definimos los parametros y la imagen \n",
    "root = \"resources/\"\n",
    "filename = \"gala.jpg\"\n",
    "gala = cv2.imread('gala.jpg', 0)\n",
    "\n",
    "#Se grafica el lienzo para determinar el tamaño de los macropixeles\n",
    "fig1, axs = plt.subplots(1, 2, sharey=False)\n",
    "Complex_Plot(gala,'A',0,axs[0],fig1)\n",
    "axs[0].set_title('(a)')\n",
    "axs[0].set_xlabel('1.48mm/píxel')\n",
    "Complex_Plot(gala,'A',0,axs[1],fig1)\n",
    "axs[1].set_title('(b)')\n",
    "axs[1].set_xlabel('1.48mm/píxel')\n",
    "\n",
    "\n",
    "#Se definen los tamaños de píxel de la imagen y del Plano de Fourier\n",
    "dx=dy=1.48*mm\n",
    "dfx=1/(np.shape(gala)[1]*dx)\n",
    "dfy=1/(np.shape(gala)[0]*dy)\n",
    "\n",
    "#Se define la resolucion que se desea obtener y se calculan los radios de la transmitancia que filtrará las frecuencias\n",
    "#espaciales en el Plano de Fourier\n",
    "resolution=237*mm\n",
    "rx=int(1/(resolution*dfx))\n",
    "ry=int(1/(resolution*dfy))\n",
    "\n",
    "#Se genera la transmitancia en forma de elipse\n",
    "mask=Mask_Ellipse(np.shape(gala),rx,ry,kind='A')\n",
    "\n",
    "#Se grafica la transmitancia\n",
    "fig2, axs = plt.subplots(1, 1)\n",
    "Complex_Plot(mask,'A',0,axs,fig2)\n",
    "\n",
    "#Se hace la transformada de fourier del lienzo, se multiplica por la transmitancia y luego se hace la transformada inversa\n",
    "#para obtener la imagen con la resolución definida previamente\n",
    "gala_fft=(dx**2)*np.fft.fftshift(np.fft.fftn(gala))\n",
    "gala_filtered=gala_fft*mask\n",
    "gala_final=(dfx*dfy)*np.fft.ifftn(gala_filtered)\n",
    "\n",
    "fig3, axs = plt.subplots(1, 1)\n",
    "Complex_Plot(gala_final,'A',0,axs,fig3)\n",
    "\n",
    "# A continuación se hará el filtrado espacial de frecuencias simulando diferentes distancias de alejamiento, la resolución\n",
    "# en cada distancia se calcula teniendo en cuenta que la resolución del ojo humano es de 5 min de arco\n",
    "\n",
    "def Resolution(distance):\n",
    "    return 2*distance*np.tan(0.000727)\n",
    "\n",
    "def Gala_At_Distances(img, rang,dx,dy):\n",
    "    dfx=1/(np.shape(img)[1]*dx)\n",
    "    dfy=1/(np.shape(img)[0]*dy)\n",
    "    images=[]\n",
    "    for i in rang:\n",
    "        resolution=Resolution(i)\n",
    "        rx=int(1/(resolution*dfx))\n",
    "        ry=int(1/(resolution*dfy))\n",
    "        mask=Mask_Ellipse(np.shape(img),rx,ry,kind='A')\n",
    "        img_fft=(dx**2)*np.fft.fftshift(np.fft.fftn(img))\n",
    "        img_filtered=img_fft*mask\n",
    "        img_final=(dfx*dfy)*np.fft.ifftn(img_filtered)\n",
    "        \n",
    "        plt.figure()\n",
    "        plt.imshow(np.abs(img_final))\n",
    "        plt.title(f'{i} metros de alejamiento')\n",
    "        \n",
    "    return \n",
    "        \n",
    "#Gala_At_Distances(gala,range(180,10,-10),dx,dy) #Descomentar esta línea de código para generar 17 imágenes con \n",
    "                                                #pérdida de resolución progresiva desde los 20m a 180m con saltos de 10m\n",
    "\n",
    "\n",
    "\n"
   ]
  },
  {
   "cell_type": "code",
   "execution_count": 59,
   "id": "e80aed67",
   "metadata": {},
   "outputs": [],
   "source": [
    "# A continuación se hará el filtrado espacial de frecuencias simulando diferentes distancias de alejamiento, la resolución\n",
    "# en cada distancia se calcula teniendo en cuenta que la resolución del ojo humano es de 5 min de arco\n",
    "\n",
    "def Resolution(distance):\n",
    "    return 2*distance*np.tan(0.000727)\n",
    "\n",
    "def Gala_At_Distances(img, rang,dx,dy):\n",
    "    dfx=1/(np.shape(img)[1]*dx)\n",
    "    dfy=1/(np.shape(img)[0]*dy)\n",
    "    a=0\n",
    "    c=['(a)','(b)']\n",
    "    fig4, axs = plt.subplots(1, 2,sharey=True)\n",
    "    for i in rang:\n",
    "        resolution=Resolution(i)\n",
    "        rx=int(1/(resolution*dfx))\n",
    "        ry=int(1/(resolution*dfy))\n",
    "        mask=Mask_Ellipse(np.shape(img),rx,ry,kind='A')\n",
    "        img_fft=(dx**2)*np.fft.fftshift(np.fft.fftn(img))\n",
    "        img_filtered=img_fft*mask\n",
    "        img_final=(dfx*dfy)*np.fft.ifftn(img_filtered)\n",
    "\n",
    "        Complex_Plot(img_final,'A',0,axs[a],fig4)\n",
    "        axs[a].set_title(c[a])\n",
    "        axs[a].set_xlabel('{} metros de distancia'.format(i))\n",
    "        a=a+1\n",
    "\n",
    "Gala_At_Distances(gala,range(100,120,10),dx,dy)"
   ]
  },
  {
   "cell_type": "code",
   "execution_count": 6,
   "id": "e8a57752",
   "metadata": {},
   "outputs": [],
   "source": [
    "import numpy as np\n",
    "import matplotlib.pyplot as plt\n",
    "import cv2\n",
    "%matplotlib qt\n",
    "\n",
    "#Definimos unidades\n",
    "nm = 1e-9\n",
    "um = 1e-6\n",
    "mm = 1e-3\n",
    "m = 1\n",
    "\n",
    "#Función para crear regillas circulares\n",
    "def Mask_Ellipse(shape,rx,ry,kind='A'):\n",
    "  #N dimensión de la matriz\n",
    "  #r es el radio del circulo (en píxeles)\n",
    "  #kind: 'A' si es una apertura, 'O' si es un obstáculo\n",
    "  if (kind=='A'):\n",
    "    e_aperture=np.zeros(shape,dtype=\"uint8\")\n",
    "    coordy=int(np.shape(e_aperture)[0]/2)\n",
    "    coordx=int(np.shape(e_aperture)[1]/2)\n",
    "    cv2.ellipse(e_aperture, (coordx,coordy), (rx,ry), 0, 0, 360, 1, -1)\n",
    "    return e_aperture\n",
    "  elif (kind=='O'):\n",
    "    e_obstacle=np.ones(shape,dtype=\"uint8\")\n",
    "    coordy=int(np.shape(e_obstacle)[0]/2)\n",
    "    coordx=int(np.shape(e_obstacle)[1]/2)\n",
    "    cv2.ellipse(e_obstacle, (coordx,coordy), (rx,ry), 0, 0, 360, 0, -1)\n",
    "    return e_obstacle\n",
    "#Función para gráficar matrices complejas \n",
    "#cv2.ellipse(mask, (coordx,coordy), (18,30), 0, 0, 360, 1, -1)\n",
    "def Complex_Plot(matrix,kind,log):\n",
    "  #kind: I=Intensidad, A=Amplitud, P=Fase\n",
    "  plt.figure()\n",
    "  plt.set_cmap('gist_gray')  \n",
    "  if (kind=='I'):\n",
    "    matrix_to_plot=np.abs(matrix)**2\n",
    "  elif (kind=='A'):\n",
    "    matrix_to_plot=np.abs(matrix)\n",
    "  elif (kind=='P'):\n",
    "     matrix_to_plot=np.angle(matrix)\n",
    "  if (log==1):\n",
    "    plt.imshow(np.log(matrix_to_plot+0.00001))\n",
    "    plt.colorbar()\n",
    "  elif (log==0):\n",
    "    plt.imshow(matrix_to_plot)\n",
    "    #plt.colorbar()\n",
    "    \n",
    " \n",
    "  return "
   ]
  },
  {
   "cell_type": "code",
   "execution_count": 7,
   "id": "5feb1875",
   "metadata": {},
   "outputs": [],
   "source": [
    "gala = cv2.imread('gala.jpg', 0)\n",
    "Complex_Plot(gala,'A',0)\n",
    "\n",
    "#Primero se hará el estudio de filtrar frecuencias mayores a las correspondientes al tamaño de los macropixeles \n",
    "#(aproximadamente 237mm x 237mm)\n",
    "\n",
    "dx=dy=1.48*mm\n",
    "dfx=1/(np.shape(gala)[1]*dx)\n",
    "dfy=1/(np.shape(gala)[0]*dy)\n",
    "\n",
    "resolution=237*mm\n",
    "rx=int(1/(resolution*dfx))\n",
    "ry=int(1/(resolution*dfy))\n",
    "\n",
    "mask=Mask_Ellipse(np.shape(gala),rx,ry,kind='A')\n",
    "\n",
    "Complex_Plot(mask,'A',0)\n",
    "\n",
    "gala_fft=(dx**2)*np.fft.fftshift(np.fft.fftn(gala))\n",
    "gala_filtered=gala_fft*mask\n",
    "gala_final=(dfx*dfy)*np.fft.ifftn(gala_filtered)\n",
    "\n",
    "Complex_Plot(gala_final,'A',0)\n",
    "\n"
   ]
  },
  {
   "cell_type": "code",
   "execution_count": 25,
   "id": "3556340d",
   "metadata": {},
   "outputs": [],
   "source": [
    "# A continuación se hará el filtrado espacial de frecuencias simulando diferentes distancias de alejamiento, la resolución\n",
    "# en cada distancia se calcula teniendo en cuenta que la resolución del ojo humano es de 5 min de arco\n",
    "\n",
    "def Resolution(distance):\n",
    "    return 2*distance*np.tan(0.000727)\n",
    "\n",
    "def Gala_At_Distances(img, rang,dx,dy):\n",
    "    dfx=1/(np.shape(img)[1]*dx)\n",
    "    dfy=1/(np.shape(img)[0]*dy)\n",
    "    for i in rang:\n",
    "        resolution=Resolution(i)\n",
    "        rx=int(1/(resolution*dfx))\n",
    "        ry=int(1/(resolution*dfy))\n",
    "        mask=Mask_Ellipse(np.shape(img),rx,ry,kind='A')\n",
    "        img_fft=(dx**2)*np.fft.fftshift(np.fft.fftn(img))\n",
    "        img_filtered=img_fft*mask\n",
    "        img_final=(dfx*dfy)*np.fft.ifftn(img_filtered)\n",
    "\n",
    "        Complex_Plot(img_final,'A',0)\n",
    "        plt.title('Imagen {}'.format(int(i/10)-1))"
   ]
  },
  {
   "cell_type": "code",
   "execution_count": 26,
   "id": "0753470e",
   "metadata": {},
   "outputs": [
    {
     "ename": "TypeError",
     "evalue": "Complex_Plot() missing 1 required positional argument: 'axs'",
     "output_type": "error",
     "traceback": [
      "\u001b[1;31m---------------------------------------------------------------------------\u001b[0m",
      "\u001b[1;31mTypeError\u001b[0m                                 Traceback (most recent call last)",
      "\u001b[1;32m~\\AppData\\Local\\Temp/ipykernel_11552/2261578293.py\u001b[0m in \u001b[0;36m<module>\u001b[1;34m\u001b[0m\n\u001b[1;32m----> 1\u001b[1;33m \u001b[0mGala_At_Distances\u001b[0m\u001b[1;33m(\u001b[0m\u001b[0mgala\u001b[0m\u001b[1;33m,\u001b[0m\u001b[0mrange\u001b[0m\u001b[1;33m(\u001b[0m\u001b[1;36m180\u001b[0m\u001b[1;33m,\u001b[0m\u001b[1;36m10\u001b[0m\u001b[1;33m,\u001b[0m\u001b[1;33m-\u001b[0m\u001b[1;36m10\u001b[0m\u001b[1;33m)\u001b[0m\u001b[1;33m,\u001b[0m\u001b[1;36m1.48\u001b[0m\u001b[1;33m*\u001b[0m\u001b[0mmm\u001b[0m\u001b[1;33m,\u001b[0m\u001b[1;36m1.48\u001b[0m\u001b[1;33m*\u001b[0m\u001b[0mmm\u001b[0m\u001b[1;33m)\u001b[0m\u001b[1;33m\u001b[0m\u001b[1;33m\u001b[0m\u001b[0m\n\u001b[0m",
      "\u001b[1;32m~\\AppData\\Local\\Temp/ipykernel_11552/3922334784.py\u001b[0m in \u001b[0;36mGala_At_Distances\u001b[1;34m(img, rang, dx, dy)\u001b[0m\n\u001b[0;32m     17\u001b[0m         \u001b[0mimg_final\u001b[0m\u001b[1;33m=\u001b[0m\u001b[1;33m(\u001b[0m\u001b[0mdfx\u001b[0m\u001b[1;33m*\u001b[0m\u001b[0mdfy\u001b[0m\u001b[1;33m)\u001b[0m\u001b[1;33m*\u001b[0m\u001b[0mnp\u001b[0m\u001b[1;33m.\u001b[0m\u001b[0mfft\u001b[0m\u001b[1;33m.\u001b[0m\u001b[0mifftn\u001b[0m\u001b[1;33m(\u001b[0m\u001b[0mimg_filtered\u001b[0m\u001b[1;33m)\u001b[0m\u001b[1;33m\u001b[0m\u001b[1;33m\u001b[0m\u001b[0m\n\u001b[0;32m     18\u001b[0m \u001b[1;33m\u001b[0m\u001b[0m\n\u001b[1;32m---> 19\u001b[1;33m         \u001b[0mComplex_Plot\u001b[0m\u001b[1;33m(\u001b[0m\u001b[0mimg_final\u001b[0m\u001b[1;33m,\u001b[0m\u001b[1;34m'A'\u001b[0m\u001b[1;33m,\u001b[0m\u001b[1;36m0\u001b[0m\u001b[1;33m)\u001b[0m\u001b[1;33m\u001b[0m\u001b[1;33m\u001b[0m\u001b[0m\n\u001b[0m\u001b[0;32m     20\u001b[0m         \u001b[0mplt\u001b[0m\u001b[1;33m.\u001b[0m\u001b[0mtitle\u001b[0m\u001b[1;33m(\u001b[0m\u001b[1;34m'Imagen {}'\u001b[0m\u001b[1;33m.\u001b[0m\u001b[0mformat\u001b[0m\u001b[1;33m(\u001b[0m\u001b[0mint\u001b[0m\u001b[1;33m(\u001b[0m\u001b[0mi\u001b[0m\u001b[1;33m/\u001b[0m\u001b[1;36m10\u001b[0m\u001b[1;33m)\u001b[0m\u001b[1;33m-\u001b[0m\u001b[1;36m1\u001b[0m\u001b[1;33m)\u001b[0m\u001b[1;33m)\u001b[0m\u001b[1;33m\u001b[0m\u001b[1;33m\u001b[0m\u001b[0m\n",
      "\u001b[1;31mTypeError\u001b[0m: Complex_Plot() missing 1 required positional argument: 'axs'"
     ]
    }
   ],
   "source": [
    "Gala_At_Distances(gala,range(180,10,-10),1.48*mm,1.48*mm)"
   ]
  },
  {
   "cell_type": "code",
   "execution_count": null,
   "id": "7c79c450",
   "metadata": {},
   "outputs": [],
   "source": [
    "def Gala_At_Radius(img, rang,dx,dy):\n",
    "    dfx=1/(np.shape(img)[1]*dx)\n",
    "    dfy=1/(np.shape(img)[0]*dy)\n",
    "    for i in rang:\n",
    "        #resolution=Resolution(i)\n",
    "        rx=ry=i\n",
    "        mask=Mask_Ellipse(np.shape(img),rx,ry,kind='A')\n",
    "        img_fft=(dx**2)*np.fft.fftshift(np.fft.fftn(img))\n",
    "        img_filtered=img_fft*mask\n",
    "        img_final=(dfx*dfy)*np.fft.ifftn(img_filtered)\n",
    "        Complex_Plot(img_final,'A',0)\n",
    "        "
   ]
  },
  {
   "cell_type": "code",
   "execution_count": 70,
   "id": "b1c19f9b",
   "metadata": {},
   "outputs": [],
   "source": [
    "Gala_At_Radius(gala,range(1000,0,-100),1.48*mm,1.48*mm)"
   ]
  },
  {
   "cell_type": "code",
   "execution_count": null,
   "id": "98955fe3",
   "metadata": {},
   "outputs": [],
   "source": []
  }
 ],
 "metadata": {
  "kernelspec": {
   "display_name": "Python 3 (ipykernel)",
   "language": "python",
   "name": "python3"
  },
  "language_info": {
   "codemirror_mode": {
    "name": "ipython",
    "version": 3
   },
   "file_extension": ".py",
   "mimetype": "text/x-python",
   "name": "python",
   "nbconvert_exporter": "python",
   "pygments_lexer": "ipython3",
   "version": "3.9.7"
  }
 },
 "nbformat": 4,
 "nbformat_minor": 5
}
