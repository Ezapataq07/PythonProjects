{
 "cells": [
  {
   "cell_type": "code",
   "execution_count": 14,
   "id": "9cbc4763",
   "metadata": {},
   "outputs": [],
   "source": [
    "import numpy as np\n",
    "import matplotlib.pyplot as plt\n",
    "import cv2\n",
    "%matplotlib qt"
   ]
  },
  {
   "cell_type": "code",
   "execution_count": 15,
   "id": "b096cdf0",
   "metadata": {},
   "outputs": [],
   "source": [
    "def Complex_Plot(matrix,kind,log):\n",
    "  #kind: I=Intensidad, A=Amplitud, P=Fase\n",
    "  plt.figure()\n",
    "  if (kind=='I'):\n",
    "    matrix_to_plot=np.abs(matrix)**2\n",
    "  elif (kind=='A'):\n",
    "    matrix_to_plot=np.abs(matrix)\n",
    "  elif (kind=='P'):\n",
    "     matrix_to_plot=np.angle(matrix)\n",
    "  if (log==1):\n",
    "    plt.imshow(np.log(matrix_to_plot+0.00001))\n",
    "    plt.colorbar()\n",
    "  elif (log==0):\n",
    "    plt.imshow(matrix_to_plot)\n",
    "    plt.colorbar()\n",
    "  return "
   ]
  },
  {
   "cell_type": "code",
   "execution_count": 16,
   "id": "8b7995a9",
   "metadata": {},
   "outputs": [],
   "source": [
    "nm=1e-9\n",
    "um=1e-6"
   ]
  },
  {
   "cell_type": "code",
   "execution_count": null,
   "id": "639c753e",
   "metadata": {},
   "outputs": [],
   "source": []
  },
  {
   "cell_type": "code",
   "execution_count": 17,
   "id": "b34958fd",
   "metadata": {},
   "outputs": [],
   "source": [
    "w_length=633*nm\n"
   ]
  },
  {
   "cell_type": "code",
   "execution_count": 18,
   "id": "50639a40",
   "metadata": {},
   "outputs": [],
   "source": [
    "def PlaneWave(M,N,angleX,angleY,dx,dy,w_length):\n",
    "    Mcenter=int(M/2)\n",
    "    Ncenter=int(N/2)\n",
    "    \n",
    "    x=np.arange(-Mcenter+1,Mcenter+1)\n",
    "    y=np.arange(-Ncenter+1,Ncenter+1)\n",
    "    \n",
    "    X,Y=np.meshgrid(x,y)\n",
    "    \n",
    "    k=2*np.pi/w_length\n",
    "    \n",
    "    Ax=np.cos(angleX)\n",
    "    Ay=np.cos(angleY)\n",
    "    \n",
    "    wave=np.exp(1j*k*(Ax*X*dx+Ay*Y*dy))\n",
    "    \n",
    "    return wave\n",
    "\n",
    "    \n",
    "    "
   ]
  },
  {
   "cell_type": "code",
   "execution_count": 19,
   "id": "85e93d2d",
   "metadata": {},
   "outputs": [],
   "source": [
    "p=1*PlaneWave(2000,2000,np.pi/2-np.pi/4,np.pi/2,1*nm,1*nm,100*nm)\n",
    "p0=1*PlaneWave(2000,2000,np.pi/2,np.pi/2,1*nm,1*nm,100*nm)"
   ]
  },
  {
   "cell_type": "code",
   "execution_count": 22,
   "id": "3064dacf",
   "metadata": {},
   "outputs": [],
   "source": [
    "Complex_Plot(np.fft.fftshift(np.fft.fftn(p0+p)),'A',0)"
   ]
  },
  {
   "cell_type": "code",
   "execution_count": null,
   "id": "69654203",
   "metadata": {},
   "outputs": [],
   "source": []
  },
  {
   "cell_type": "code",
   "execution_count": null,
   "id": "f459c813",
   "metadata": {},
   "outputs": [],
   "source": []
  },
  {
   "cell_type": "code",
   "execution_count": 30,
   "id": "2c89b30a",
   "metadata": {},
   "outputs": [],
   "source": [
    "Complex_Plot(np.abs(p+p0),'A',0)"
   ]
  },
  {
   "cell_type": "markdown",
   "id": "428dc765",
   "metadata": {},
   "source": []
  }
 ],
 "metadata": {
  "kernelspec": {
   "display_name": "Python 3 (ipykernel)",
   "language": "python",
   "name": "python3"
  },
  "language_info": {
   "codemirror_mode": {
    "name": "ipython",
    "version": 3
   },
   "file_extension": ".py",
   "mimetype": "text/x-python",
   "name": "python",
   "nbconvert_exporter": "python",
   "pygments_lexer": "ipython3",
   "version": "3.9.7"
  }
 },
 "nbformat": 4,
 "nbformat_minor": 5
}
